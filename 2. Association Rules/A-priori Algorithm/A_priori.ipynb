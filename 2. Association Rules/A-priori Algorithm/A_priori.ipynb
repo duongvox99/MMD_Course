{
  "nbformat": 4,
  "nbformat_minor": 0,
  "metadata": {
    "colab": {
      "name": "A-priori.ipynb",
      "provenance": [],
      "collapsed_sections": []
    },
    "kernelspec": {
      "name": "python3",
      "display_name": "Python 3"
    }
  },
  "cells": [
    {
      "cell_type": "code",
      "metadata": {
        "colab": {
          "base_uri": "https://localhost:8080/"
        },
        "id": "HouKLVaxJEui",
        "outputId": "a79502ff-4325-4f38-ecfb-418719fd619a"
      },
      "source": [
        "!pip install pyspark\r\n",
        "!pip install findspark"
      ],
      "execution_count": null,
      "outputs": [
        {
          "output_type": "stream",
          "text": [
            "Requirement already satisfied: pyspark in /usr/local/lib/python3.7/dist-packages (3.1.1)\n",
            "Requirement already satisfied: py4j==0.10.9 in /usr/local/lib/python3.7/dist-packages (from pyspark) (0.10.9)\n",
            "Requirement already satisfied: findspark in /usr/local/lib/python3.7/dist-packages (1.4.2)\n"
          ],
          "name": "stdout"
        }
      ]
    },
    {
      "cell_type": "code",
      "metadata": {
        "id": "ZroJkKiuf1wh"
      },
      "source": [
        "import pyspark\r\n",
        "from pyspark.sql import SparkSession\r\n",
        "from pyspark import SparkConf, SparkContext"
      ],
      "execution_count": null,
      "outputs": []
    },
    {
      "cell_type": "code",
      "metadata": {
        "id": "zzKRA6gJhqk7"
      },
      "source": [
        "spark = SparkSession.builder.appName('apriori') \\\r\n",
        "                    .config(\"spark.executor.memory\") \\\r\n",
        "                    .getOrCreate()"
      ],
      "execution_count": null,
      "outputs": []
    },
    {
      "cell_type": "code",
      "metadata": {
        "colab": {
          "resources": {
            "http://localhost:8080/nbextensions/google.colab/files.js": {
              "data": "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",
              "ok": true,
              "headers": [
                [
                  "content-type",
                  "application/javascript"
                ]
              ],
              "status": 200,
              "status_text": ""
            }
          },
          "base_uri": "https://localhost:8080/",
          "height": 72
        },
        "id": "tUlbEDEThtLI",
        "outputId": "1b53081b-7259-43f4-da3f-108622a88108"
      },
      "source": [
        "from google.colab import files\r\n",
        "uploaded = files.upload()"
      ],
      "execution_count": null,
      "outputs": [
        {
          "output_type": "display_data",
          "data": {
            "text/html": [
              "\n",
              "     <input type=\"file\" id=\"files-51d19697-9134-4abd-8ad8-351c70b6561e\" name=\"files[]\" multiple disabled\n",
              "        style=\"border:none\" />\n",
              "     <output id=\"result-51d19697-9134-4abd-8ad8-351c70b6561e\">\n",
              "      Upload widget is only available when the cell has been executed in the\n",
              "      current browser session. Please rerun this cell to enable.\n",
              "      </output>\n",
              "      <script src=\"/nbextensions/google.colab/files.js\"></script> "
            ],
            "text/plain": [
              "<IPython.core.display.HTML object>"
            ]
          },
          "metadata": {
            "tags": []
          }
        },
        {
          "output_type": "stream",
          "text": [
            "Saving store_data.csv to store_data (1).csv\n"
          ],
          "name": "stdout"
        }
      ]
    },
    {
      "cell_type": "code",
      "metadata": {
        "colab": {
          "base_uri": "https://localhost:8080/"
        },
        "id": "RDD7wBb7isoh",
        "outputId": "d9b8568e-9a86-492b-9ae3-d2827a028257"
      },
      "source": [
        "import pandas as pd\r\n",
        "import io\r\n",
        "\r\n",
        "df = spark.read.csv(\"store_data.csv\")\r\n",
        "df\r\n",
        "# df.printSchema() "
      ],
      "execution_count": null,
      "outputs": [
        {
          "output_type": "execute_result",
          "data": {
            "text/plain": [
              "DataFrame[_c0: string, _c1: string, _c2: string, _c3: string, _c4: string, _c5: string, _c6: string, _c7: string, _c8: string, _c9: string, _c10: string, _c11: string, _c12: string, _c13: string, _c14: string, _c15: string, _c16: string, _c17: string, _c18: string, _c19: string]"
            ]
          },
          "metadata": {
            "tags": []
          },
          "execution_count": 48
        }
      ]
    },
    {
      "cell_type": "markdown",
      "metadata": {
        "id": "HUTQCr1so0Lt"
      },
      "source": [
        "### Hàm generate_unique_item_set()\r\n",
        "Giá trị trả về: Khung dữ liệu với các mục duy nhất (không lặp lại) và các giá trị rỗng bị xóa khỏi dataFrame\r\n",
        "\r\n",
        "- df.na cung cấp tất cả các giá trị null; tất cả các giá trị null phải được loại bỏ\r\n",
        "- rdd chuyển đổi DataFrame thành RDD\r\n",
        "- remove_duplicate_columns phải được áp dụng cho các phần tử của RDD để mỗi mục trong df là một phần tử riêng biệt\r\n",
        "- Hàm 'remove_duplicate_columns' được áp dụng cho từng phần tử của RDD, mọi hàng của khung dữ liệu phải được chuyển vào đó."
      ]
    },
    {
      "cell_type": "code",
      "metadata": {
        "id": "6MTP1bBWpEck"
      },
      "source": [
        "# trả về danh sách các unique_item trong tập dữ liệu\r\n",
        "def generate_unique_item_set(df):\r\n",
        "    # empty dataframe\r\n",
        "    total_item_set_df = None\r\n",
        "    \r\n",
        "    for col_index in range(20):\r\n",
        "        #  Lấy các phần tử của từng cột riêng lẻ\r\n",
        "        _c_df = df.select(\"_c\" + str(col_index))\r\n",
        "\r\n",
        "        if total_item_set_df is None:\r\n",
        "            total_item_set_df = _c_df\r\n",
        "        # Thêm các phần tử _c_df từ mỗi cột vào total_item_set_df\r\n",
        "        else:\r\n",
        "            total_item_set_df = total_item_set_df.union(_c_df)\r\n",
        "            \r\n",
        "    return total_item_set_df.select(\"_c0\").na.drop().rdd.flatMap(remove_duplicate_columns).distinct().toDF()"
      ],
      "execution_count": null,
      "outputs": []
    },
    {
      "cell_type": "markdown",
      "metadata": {
        "id": "aw0AmhfBpeE2"
      },
      "source": [
        "### Hàm remove_duplicate_columns()\r\n",
        "- Loại bỏ các cột có giá trị trùng lắp\r\n",
        "\r\n",
        "- Trả về mảng đã remove các cột trùng lắp"
      ]
    },
    {
      "cell_type": "code",
      "metadata": {
        "id": "_wRaxCAeUGng"
      },
      "source": [
        "def remove_duplicate_columns(x):\r\n",
        "    col_len = len(x)\r\n",
        "    # RDD rỗng chứa tập hợp các values\r\n",
        "    columns = set()\r\n",
        "    # Remove khoảng trắng \r\n",
        "    # khỏi các phần tử và thêm các phần tử vào cột từ RDD 'x'\r\n",
        "    for col in range(col_len):\r\n",
        "        x_col = str(x[col]).strip() #  xóa khoảng trắng cuối string\r\n",
        "        columns.add(x_col)\r\n",
        "    # Nếu ko có duplicate columns thì return rỗng\r\n",
        "    if len(columns) < col_len:\r\n",
        "        return []\r\n",
        "    \r\n",
        "    return [(tuple(sorted(columns)))]"
      ],
      "execution_count": null,
      "outputs": []
    },
    {
      "cell_type": "code",
      "metadata": {
        "colab": {
          "base_uri": "https://localhost:8080/"
        },
        "id": "wydbYRTAkAug",
        "outputId": "c5831a6c-43d9-43b3-e57f-affda288a862"
      },
      "source": [
        "item_sets = generate_unique_item_set(df)\r\n",
        "item_sets.show()"
      ],
      "execution_count": null,
      "outputs": [
        {
          "output_type": "stream",
          "text": [
            "+--------------------+\n",
            "|                  _1|\n",
            "+--------------------+\n",
            "|   whole wheat pasta|\n",
            "|           asparagus|\n",
            "|            pancakes|\n",
            "|         blueberries|\n",
            "|            zucchini|\n",
            "|              shrimp|\n",
            "|             burgers|\n",
            "|           spaghetti|\n",
            "|         french wine|\n",
            "|       strong cheese|\n",
            "|extra dark chocolate|\n",
            "|              melons|\n",
            "|               cream|\n",
            "|   frozen vegetables|\n",
            "|           meatballs|\n",
            "|          energy bar|\n",
            "|            escalope|\n",
            "|        energy drink|\n",
            "|                mint|\n",
            "|      vegetables mix|\n",
            "+--------------------+\n",
            "only showing top 20 rows\n",
            "\n"
          ],
          "name": "stdout"
        }
      ]
    },
    {
      "cell_type": "code",
      "metadata": {
        "colab": {
          "base_uri": "https://localhost:8080/"
        },
        "id": "V2WoY9WckrZh",
        "outputId": "03917661-8882-4681-84e2-1bc1b447760f"
      },
      "source": [
        "# Số lượng unique items trong dataset\r\n",
        "item_sets.count()"
      ],
      "execution_count": null,
      "outputs": [
        {
          "output_type": "execute_result",
          "data": {
            "text/plain": [
              "119"
            ]
          },
          "metadata": {
            "tags": []
          },
          "execution_count": 52
        }
      ]
    },
    {
      "cell_type": "markdown",
      "metadata": {
        "id": "khRgQACCp_vN"
      },
      "source": [
        "### Hàm get_freq_item_sets()\r\n",
        "- Tạo các itemsets đã lọc từ dataFrame được cung cấp dựa trên min support. \r\n",
        "- Lọc các tập hợp ứng viên theo min support lấy từ hàm Apriori(). \r\n",
        "- Kq trả về một mảng để tạo ra đầu ra cuối cùng của hàm Apriori()."
      ]
    },
    {
      "cell_type": "code",
      "metadata": {
        "id": "7LXJesmglwX6"
      },
      "source": [
        "def get_freq_item_sets(total_records, candidate_sets_shared, transaction_df_rdd, min_support):    \r\n",
        "    filtered_item_set = transaction_df_rdd.flatMap(lambda x: filter_and_map_transaction(x, candidate_sets_shared)).reduceByKey(lambda a, b: a+b).map(lambda x: (x[0], x[1]/total_records)).filter(lambda x: x[1]>=min_support)\r\n",
        "    return filtered_item_set"
      ],
      "execution_count": null,
      "outputs": []
    },
    {
      "cell_type": "markdown",
      "metadata": {
        "id": "SWBoJbMCqNaO"
      },
      "source": [
        "### Hàm filter_and_map_transaction()\r\n",
        "\r\n",
        "So sánh từng items với tập hợp ứng viên. Nếu item thuộc giao dịch, item tương ứng trong nhóm ứng viên sẽ được ánh xạ với giá trị 1, ngược lại là giá trị 0"
      ]
    },
    {
      "cell_type": "code",
      "metadata": {
        "id": "DQi493JrjBA5"
      },
      "source": [
        "def filter_and_map_transaction(x, candidate_set_shared):\r\n",
        "    \r\n",
        "    c_k = []\r\n",
        "    \r\n",
        "    rows = len(candidate_set_shared.value)\r\n",
        "    cols = len(candidate_set_shared.value[0])\r\n",
        "    \r\n",
        "    # Checking each transaction\r\n",
        "    for row_i in range(rows):\r\n",
        "        item_set = set()\r\n",
        "        for col_i in range(cols):\r\n",
        "            item_set.add(candidate_set_shared.value[row_i][col_i])\r\n",
        "        \r\n",
        "        # Map the condition with the correct value (1/0)\r\n",
        "        if item_set.issubset(set(x)):\r\n",
        "            c_k.append((candidate_set_shared.value[row_i], 1))\r\n",
        "        else:\r\n",
        "            c_k.append((candidate_set_shared.value[row_i], 0))\r\n",
        "    return c_k"
      ],
      "execution_count": null,
      "outputs": []
    },
    {
      "cell_type": "markdown",
      "metadata": {
        "id": "GMWjzUIarQF2"
      },
      "source": [
        "### Hàm is_freq_item_set_not_empty()\r\n",
        "-  Kiểm tra xem tập freq_item_sets có bất kỳ giao dịch nào hay không\r\n",
        "- Điều kiện đầu tiên được xác định để kiểm tra xem có các phần tử trong tập phổ biến hay không.\r\n",
        "Có thể có trường hợp các phần tử có mặt nhưng tất cả chúng đều không có.\r\n",
        "- Điều kiện thứ hai kiểm tra nếu tất cả các phần tử của tập phổ biến không phải là không có."
      ]
    },
    {
      "cell_type": "code",
      "metadata": {
        "id": "OS7QvnFtjL_w"
      },
      "source": [
        "def is_freq_item_set_not_empty(freq_item_sets):\r\n",
        "    return (freq_item_sets.count() > 0) and (freq_item_sets is not None)"
      ],
      "execution_count": null,
      "outputs": []
    },
    {
      "cell_type": "markdown",
      "metadata": {
        "id": "1OTM5dymsqOH"
      },
      "source": [
        "### Hàm get_all_possible_candidate_sets()\r\n",
        "Tạo các tập phổ biến có thứ tự cao hơn từ đơn hàng đầu tiên. Giá trị 'k + 1' biểu thị số thứ tự và hàm tạo các tập phổ biến có thứ tự 'k + 1' bằng cách hợp nhất hai tập mục đầu vào có thứ tự k & 1 tương ứng."
      ]
    },
    {
      "cell_type": "code",
      "metadata": {
        "id": "zcjsv6arjbG4"
      },
      "source": [
        "def get_all_possible_candidate_sets(candidate_item_sets_k, candidate_item_sets_0):\r\n",
        "    \r\n",
        "    # Convert các phần tử của candidate_item_sets_k từ list format vào list tuple\r\n",
        "    candidate_item_sets_k = candidate_item_sets_k.map(lambda x: tuple(x[0])).toDF()\r\n",
        "    # toDF(): rdd -> df\r\n",
        "    \r\n",
        "    # Return tập thứ k+1\r\n",
        "    return candidate_item_sets_k.crossJoin(candidate_item_sets_0).rdd.flatMap(remove_duplicate_columns).distinct()\r\n",
        "    # crossJoin(): kết hợp một phần tử của một dataFrame với tất cả các phần tử của dataFrame khác"
      ],
      "execution_count": null,
      "outputs": []
    },
    {
      "cell_type": "markdown",
      "metadata": {
        "id": "JJWiJNC5t_9g"
      },
      "source": [
        "\r\n",
        "- item_sets: DataFrame có tất cả các mục có trong các giao dịch\r\n",
        "\r\n",
        "- transaction_df_rdd: RDD dataFrame đã xử lý bên trên\r\n",
        "    \r\n",
        "- min_support: Giá trị min sup\r\n"
      ]
    },
    {
      "cell_type": "code",
      "metadata": {
        "id": "pxfCXQX1mPew"
      },
      "source": [
        "from pyspark.sql.types import StructType, ArrayType, StructField, DoubleType, StringType\r\n",
        "\r\n",
        "def apriori(item_sets, transaction_df_rdd, min_support):\r\n",
        "    \r\n",
        "    # Đếm tổng số values  trong mỗi colunms trong dataframe\r\n",
        "    total_records = transaction_df_rdd.count()\r\n",
        "    #Khởi tạo 1 mảng trống dùng để lưu trữ các frequent itemset\r\n",
        "    freq_item_sets_all_orders = []\r\n",
        "    # candidate_sets_order_1\r\n",
        "    # là danh sách mặt hàng hoàn chỉnh từ các giao dịch\r\n",
        "    # broadcast được sử dụng để gửi một values trong item_sest tới tất cả các cluster\r\n",
        "\r\n",
        "    candidate_sets_order_1 = spark.sparkContext.broadcast(item_sets.collect())\r\n",
        "    \r\n",
        "    # Gọi hàm get_freq_items_sests để tạo tập hợp frequent_item_sets_order_1\r\n",
        "    # Sau đó gán kết quả vào freq_item_sets_all_orders\r\n",
        "\r\n",
        "    frequent_item_sets_order_1 = get_freq_item_sets(total_records, candidate_sets_order_1, transaction_df_rdd, min_support)\r\n",
        "    freq_item_sets_all_orders.append(frequent_item_sets_order_1)\r\n",
        "    # Chuyển đổi các phần tử rdd của  frequent_item_sets_order_1' thành dataFrame \r\n",
        "    frequent_item_sets_order_1_df = frequent_item_sets_order_1.map(lambda x:tuple(x[0])).toDF()\r\n",
        "    \r\n",
        "    k = 0\r\n",
        "    # Vòng lặp sẽ chạy cho đến khi có thể tạo các items_set\r\n",
        "    while is_freq_item_set_not_empty(freq_item_sets_all_orders[k]):\r\n",
        "        # Tạo candidate sets\r\n",
        "        # Lọc  candidate sets  để nhận nhóm item_sest thường gặp theo thứ tự 'k + 1'\r\n",
        "        # Thêm danh sách 'freq_item_sets_all_orders' với frequent itemset k + 1\r\n",
        "\r\n",
        "        current_candidate_sets = get_all_possible_candidate_sets(freq_item_sets_all_orders[k], frequent_item_sets_order_1_df)\r\n",
        "        current_candidate_sets = spark.sparkContext.broadcast(current_candidate_sets.collect()) \r\n",
        "        current_frequent_item_sets = get_freq_item_sets(total_records, current_candidate_sets, transaction_df_rdd, min_support)\r\n",
        "        # # freq_item_sets_all_orders là danh sách các RDD trong đó phần tử k lưu trữ tập hợp mục thường xuyên của đơn hàng k + 1\r\n",
        "        freq_item_sets_all_orders.append(current_frequent_item_sets)\r\n",
        "        k += 1\r\n",
        "    \r\n",
        "    \r\n",
        "    return freq_item_sets_all_orders"
      ],
      "execution_count": null,
      "outputs": []
    },
    {
      "cell_type": "code",
      "metadata": {
        "colab": {
          "base_uri": "https://localhost:8080/"
        },
        "id": "cQJEUmp4mWX3",
        "outputId": "93afb584-4ac2-4216-b8dd-89c836daed6e"
      },
      "source": [
        "df_rdd = df.rdd\r\n",
        "freq_item_sets_all_orders = apriori(item_sets, df_rdd, 0.01)\r\n",
        "\r\n",
        "print(freq_item_sets_all_orders)"
      ],
      "execution_count": null,
      "outputs": [
        {
          "output_type": "stream",
          "text": [
            "[PythonRDD[600] at RDD at PythonRDD.scala:53, PythonRDD[601] at RDD at PythonRDD.scala:53, PythonRDD[602] at RDD at PythonRDD.scala:53, PythonRDD[603] at RDD at PythonRDD.scala:53]\n"
          ],
          "name": "stdout"
        }
      ]
    },
    {
      "cell_type": "code",
      "metadata": {
        "colab": {
          "base_uri": "https://localhost:8080/"
        },
        "id": "Vb9f4uMBmabo",
        "outputId": "94e9e1cd-277e-4603-a9b2-6a1fa1c4a825"
      },
      "source": [
        "freq_item_sets_all_orders[0].take(20)"
      ],
      "execution_count": null,
      "outputs": [
        {
          "output_type": "execute_result",
          "data": {
            "text/plain": [
              "[(Row(_1='whole wheat pasta'), 0.029462738301559793),\n",
              " (Row(_1='pancakes'), 0.09505399280095987),\n",
              " (Row(_1='shrimp'), 0.07145713904812692),\n",
              " (Row(_1='burgers'), 0.0871883748833489),\n",
              " (Row(_1='spaghetti'), 0.17411011865084655),\n",
              " (Row(_1='french wine'), 0.022530329289428077),\n",
              " (Row(_1='extra dark chocolate'), 0.011998400213304892),\n",
              " (Row(_1='melons'), 0.011998400213304892),\n",
              " (Row(_1='frozen vegetables'), 0.09532062391681109),\n",
              " (Row(_1='meatballs'), 0.020930542594320756),\n",
              " (Row(_1='energy bar'), 0.027063058258898813),\n",
              " (Row(_1='escalope'), 0.0793227569657379),\n",
              " (Row(_1='energy drink'), 0.026663111585121985),\n",
              " (Row(_1='mint'), 0.0174643380882549),\n",
              " (Row(_1='vegetables mix'), 0.025729902679642713),\n",
              " (Row(_1='body spray'), 0.011465137981602452),\n",
              " (Row(_1='chocolate'), 0.1638448206905746),\n",
              " (Row(_1='butter'), 0.030129316091187842),\n",
              " (Row(_1='eggplant'), 0.013198240234635382),\n",
              " (Row(_1='fresh tuna'), 0.022263698173576856)]"
            ]
          },
          "metadata": {
            "tags": []
          },
          "execution_count": 59
        }
      ]
    },
    {
      "cell_type": "code",
      "metadata": {
        "colab": {
          "base_uri": "https://localhost:8080/"
        },
        "id": "sY8jtfHfrJOJ",
        "outputId": "36f74aad-ebda-4c7a-87c6-b03e433fc357"
      },
      "source": [
        "freq_item_sets_all_orders[1].take(20)"
      ],
      "execution_count": null,
      "outputs": [
        {
          "output_type": "execute_result",
          "data": {
            "text/plain": [
              "[(('pancakes', 'shrimp'), 0.010531929076123183),\n",
              " (('burgers', 'pancakes'), 0.010531929076123183),\n",
              " (('pancakes', 'spaghetti'), 0.025196640447940274),\n",
              " (('frozen vegetables', 'pancakes'), 0.013464871350486601),\n",
              " (('chocolate', 'pancakes'), 0.01986401813091588),\n",
              " (('green tea', 'pancakes'), 0.01639781362485002),\n",
              " (('milk', 'pancakes'), 0.01653112918277563),\n",
              " (('eggs', 'pancakes'), 0.021730435941874418),\n",
              " (('mineral water', 'pancakes'), 0.03372883615517931),\n",
              " (('french fries', 'pancakes'), 0.020130649246767097),\n",
              " (('ground beef', 'pancakes'), 0.014531395813891481),\n",
              " (('cake', 'pancakes'), 0.011865084655379284),\n",
              " (('olive oil', 'pancakes'), 0.010798560191974404),\n",
              " (('shrimp', 'spaghetti'), 0.021197173710171976),\n",
              " (('frozen vegetables', 'shrimp'), 0.01666444474070124),\n",
              " (('chocolate', 'shrimp'), 0.017997600319957337),\n",
              " (('shrimp', 'tomatoes'), 0.011198506865751233),\n",
              " (('green tea', 'shrimp'), 0.011465137981602452),\n",
              " (('milk', 'shrimp'), 0.01759765364618051),\n",
              " (('eggs', 'shrimp'), 0.014131449140114652)]"
            ]
          },
          "metadata": {
            "tags": []
          },
          "execution_count": 60
        }
      ]
    },
    {
      "cell_type": "code",
      "metadata": {
        "colab": {
          "base_uri": "https://localhost:8080/"
        },
        "id": "dJ1iDS2trQWk",
        "outputId": "4092c2a0-804f-4181-fa46-dc2b4613c8e8"
      },
      "source": [
        "freq_item_sets_all_orders[2].take(20)"
      ],
      "execution_count": null,
      "outputs": [
        {
          "output_type": "execute_result",
          "data": {
            "text/plain": [
              "[(('mineral water', 'pancakes', 'spaghetti'), 0.011465137981602452),\n",
              " (('frozen vegetables', 'mineral water', 'spaghetti'), 0.011998400213304892),\n",
              " (('chocolate', 'milk', 'spaghetti'), 0.010931875749900012),\n",
              " (('chocolate', 'eggs', 'spaghetti'), 0.010531929076123183),\n",
              " (('chocolate', 'mineral water', 'spaghetti'), 0.01586455139314758),\n",
              " (('milk', 'mineral water', 'spaghetti'), 0.01573123583522197),\n",
              " (('eggs', 'mineral water', 'spaghetti'), 0.014264764698040262),\n",
              " (('french fries', 'mineral water', 'spaghetti'), 0.010131982402346354),\n",
              " (('ground beef', 'mineral water', 'spaghetti'), 0.017064391414478068),\n",
              " (('mineral water', 'olive oil', 'spaghetti'), 0.010265297960271964),\n",
              " (('frozen vegetables', 'milk', 'mineral water'), 0.011065191307825623),\n",
              " (('chocolate', 'milk', 'mineral water'), 0.013998133582189041),\n",
              " (('chocolate', 'eggs', 'mineral water'), 0.013464871350486601),\n",
              " (('chocolate', 'ground beef', 'mineral water'), 0.010931875749900012),\n",
              " (('eggs', 'milk', 'mineral water'), 0.013064924676709772),\n",
              " (('ground beef', 'milk', 'mineral water'), 0.011065191307825623),\n",
              " (('eggs', 'ground beef', 'mineral water'), 0.010131982402346354)]"
            ]
          },
          "metadata": {
            "tags": []
          },
          "execution_count": 61
        }
      ]
    },
    {
      "cell_type": "code",
      "metadata": {
        "id": "1g2AnohzrTWh"
      },
      "source": [
        "# Tạo tất cả các tập hợp con có thể có từ một tập hợp\r\n",
        "\r\n",
        "def powerset(s):\r\n",
        "    slist = list(s)\r\n",
        "    result = [[]]\r\n",
        "    for x in slist:\r\n",
        "        \r\n",
        "        result.extend([subset + [x] for subset in result])\r\n",
        "        \r\n",
        "    return [item_set for item_set in result if (len(item_set) > 0 and len(item_set) < len(slist))]"
      ],
      "execution_count": null,
      "outputs": []
    },
    {
      "cell_type": "markdown",
      "metadata": {
        "id": "y6_cl8kmxZNI"
      },
      "source": [
        "#### Hàm generate_rules_with_confidence()\r\n",
        "- Tạo rules với confidence   \r\n",
        "- x: freq_item_sets_all_orders; danh sách chứa các frequent item set cùng với confidence score\r\n",
        "- k: thứ tự của frequent item set  \r\n",
        "- freq_item_sets_map_all_orders_shared: broadcasted map (cặp key-value ) của frequent item sets: \r\n",
        "    - key là subset\r\n",
        "    - value là corresponding support  \r\n",
        "- min_confidence: Giá trị min confidence \r\n"
      ]
    },
    {
      "cell_type": "code",
      "metadata": {
        "id": "2MIri8KfncoV"
      },
      "source": [
        "from pyspark.sql import Row\r\n",
        "\r\n",
        "def generate_rules_with_confidence(x, k, freq_item_sets_map_all_orders_shared, min_confidence):\r\n",
        " \r\n",
        "    # Trích xuất Cột đầu tiên của RDD\r\n",
        "    freq_item_set = set(x[0])\r\n",
        "    \r\n",
        "    # all_subsets lưu trữ tất cả các tập con từ freq_item_set\r\n",
        "    all_subsets = powerset(freq_item_set)\r\n",
        "    \r\n",
        "\r\n",
        "    rules = []\r\n",
        "    \r\n",
        "    # Convert các broadcasted values theo định dạng của list tuple\r\n",
        "    freq_item_set_support = freq_item_sets_map_all_orders_shared[k].value[tuple(sorted(freq_item_set))]\r\n",
        "\r\n",
        "    \r\n",
        "    candidate_set_key = ''\r\n",
        "    subset_k = 0\r\n",
        "    for subset in all_subsets:\r\n",
        "        antecedent = subset\r\n",
        "        \r\n",
        "        # Consequent được tạo ra bằng cách xóa antecedent khỏi tập frequent item set\r\n",
        "        consequent = freq_item_set - set(antecedent)\r\n",
        "    \r\n",
        "        # Kiểm tra TH có một phần tử duy nhất trong antecedent\r\n",
        "        if (len(consequent) == 1):\r\n",
        "            single_item = consequent.pop()\r\n",
        "            candidate_set_key = Row(_1=single_item)\r\n",
        "            subset_k = 1\r\n",
        "            consequent.add(single_item)\r\n",
        "        else:\r\n",
        "            candidate_set_key = tuple(sorted(consequent))\r\n",
        "            subset_k = len(consequent) \r\n",
        "\r\n",
        "        # support value cho consequent\r\n",
        "        # value.get lấy values từ cặp key-value\r\n",
        "        consequent_support = freq_item_sets_map_all_orders_shared[subset_k-1].value.get(candidate_set_key)\r\n",
        "        \r\n",
        "        if (consequent_support is not None):\r\n",
        "            \r\n",
        "            # Tính giá trị confidence value cho rules\r\n",
        "            confidence = freq_item_set_support/consequent_support\r\n",
        "        \r\n",
        "            # Thêm rules nếu giá trị confidence lớn hơn ngưỡng confidence\r\n",
        "            if (confidence >= min_confidence):\r\n",
        "                rules.append((list(antecedent), list(consequent), confidence))      \r\n",
        "\r\n",
        "    return rules"
      ],
      "execution_count": null,
      "outputs": []
    },
    {
      "cell_type": "markdown",
      "metadata": {
        "id": "J8THB_4VyOZ6"
      },
      "source": [
        "#### Hàm generate_association_rules_for_k_order\r\n",
        "- Tạo ra các quy tắc kết hợp cho các tập phổ biến có thứ tự k\r\n",
        "\r\n",
        "- k: thứ tự của frequent item set  \r\n",
        "- freq_item_sets_map_all_orders_shared: broadcasted map (cặp key-value ) của frequent item sets: \r\n",
        "    - key là subset\r\n",
        "    - value là corresponding support  \r\n",
        "- min_confidence: Giá trị min confidence  "
      ]
    },
    {
      "cell_type": "code",
      "metadata": {
        "id": "PtHKLP6NnpYC"
      },
      "source": [
        "def generate_association_rules_for_k_order(k, freq_item_sets_order_k, \\\r\n",
        "                                           freq_item_sets_map_all_orders_shared, min_confidence):\r\n",
        "    # Hàm generate_rules_with_confidence là một flat map tính frequent trong itemsets theo thứ tự k\r\n",
        "    return freq_item_sets_order_k.flatMap(lambda x: generate_rules_with_confidence(x, \\\r\n",
        "                                  k,freq_item_sets_map_all_orders_shared, \\\r\n",
        "                                  min_confidence)).toDF(('Antecedent', 'Consequent', 'Confidence'))\r\n",
        "                                  # Chuyển RDD thành Dataframe và thay đổi tên cột"
      ],
      "execution_count": null,
      "outputs": []
    },
    {
      "cell_type": "markdown",
      "metadata": {
        "id": "6FYMTofutHnm"
      },
      "source": [
        "#### Hàm generate_association_rules\r\n",
        "\r\n",
        "- Đệ quy trên tất cả các frequent itemsets của các transaction khác nhau và tạo ra một tổ hợp các quy tắc kết hợp\r\n",
        "- freq_item_sets_all_orders: danh sách tất cả frequent itemsets (\r\n",
        "- min_confidence"
      ]
    },
    {
      "cell_type": "code",
      "metadata": {
        "id": "F46Ka_5PnsXJ"
      },
      "source": [
        "def generate_association_rules(freq_item_sets_all_orders, min_confidence):\r\n",
        "    # Gửi broadcast\r\n",
        "    freq_item_sets_map_all_orders_shared = [spark.sparkContext.broadcast(freq_item_sets.collectAsMap()) \\\r\n",
        "                                                                     for freq_item_sets in freq_item_sets_all_orders]\r\n",
        "    \r\n",
        "    l = len(freq_item_sets_map_all_orders_shared)\r\n",
        "    \r\n",
        "    # tất cả hàm được xác định ở trên để tạo các quy tắc từ tập phổ biến thường xuyên có thứ tự 2\r\n",
        "    association_rules_df = generate_association_rules_for_k_order(1, freq_item_sets_all_orders[1], \\\r\n",
        "                                                                  freq_item_sets_map_all_orders_shared, \\\r\n",
        "                                                                  min_confidence)\r\n",
        "    \r\n",
        "    for k in range(2, l):\r\n",
        "        if is_freq_item_set_not_empty(freq_item_sets_all_orders[k]):\r\n",
        "            # Kết hợp tất cả association rules cho mỗi frequent itemsets\r\n",
        "            \r\n",
        "            association_rules_df = association_rules_df.union(generate_association_rules_for_k_order(k, \\\r\n",
        "                                                        freq_item_sets_all_orders[k], \\\r\n",
        "                                                        freq_item_sets_map_all_orders_shared, min_confidence))\r\n",
        "    return association_rules_df"
      ],
      "execution_count": null,
      "outputs": []
    },
    {
      "cell_type": "code",
      "metadata": {
        "id": "Z8-vRiuGnwXN"
      },
      "source": [
        "association_rules = generate_association_rules(freq_item_sets_all_orders, 0.099)"
      ],
      "execution_count": null,
      "outputs": []
    },
    {
      "cell_type": "markdown",
      "metadata": {
        "id": "aFtsvAJe0Ct5"
      },
      "source": [
        ""
      ]
    },
    {
      "cell_type": "code",
      "metadata": {
        "colab": {
          "base_uri": "https://localhost:8080/"
        },
        "id": "498W2rOBnx8h",
        "outputId": "dfd2ace9-ab9d-4847-814a-a118d7467102"
      },
      "source": [
        "association_rules.show(200)"
      ],
      "execution_count": null,
      "outputs": [
        {
          "output_type": "stream",
          "text": [
            "+-------------------+-------------------+-------------------+\n",
            "|         Antecedent|         Consequent|         Confidence|\n",
            "+-------------------+-------------------+-------------------+\n",
            "|         [pancakes]|           [shrimp]|0.14738805970149252|\n",
            "|           [shrimp]|         [pancakes]|0.11079943899018233|\n",
            "|          [burgers]|         [pancakes]|0.11079943899018233|\n",
            "|         [pancakes]|          [burgers]|0.12079510703363913|\n",
            "|        [spaghetti]|         [pancakes]| 0.2650771388499299|\n",
            "|         [pancakes]|        [spaghetti]| 0.1447166921898928|\n",
            "|         [pancakes]|[frozen vegetables]|0.14125874125874124|\n",
            "|[frozen vegetables]|         [pancakes]|0.14165497896213183|\n",
            "|         [pancakes]|        [chocolate]|0.12123677786818551|\n",
            "|        [chocolate]|         [pancakes]|0.20897615708274897|\n",
            "|        [green tea]|         [pancakes]|0.17251051893408134|\n",
            "|         [pancakes]|        [green tea]|  0.124117053481332|\n",
            "|         [pancakes]|             [milk]|0.12757201646090535|\n",
            "|             [milk]|         [pancakes]|0.17391304347826086|\n",
            "|         [pancakes]|             [eggs]|0.12091988130563798|\n",
            "|             [eggs]|         [pancakes]| 0.2286115007012623|\n",
            "|         [pancakes]|    [mineral water]|0.14149888143176736|\n",
            "|    [mineral water]|         [pancakes]| 0.3548387096774194|\n",
            "|         [pancakes]|     [french fries]|0.11778471138845555|\n",
            "|     [french fries]|         [pancakes]|  0.211781206171108|\n",
            "|      [ground beef]|         [pancakes]|0.15287517531556802|\n",
            "|         [pancakes]|      [ground beef]|0.14789687924016282|\n",
            "|             [cake]|         [pancakes]|0.12482468443197757|\n",
            "|         [pancakes]|             [cake]|0.14638157894736845|\n",
            "|         [pancakes]|        [olive oil]| 0.1639676113360324|\n",
            "|        [olive oil]|         [pancakes]|0.11360448807854139|\n",
            "|        [spaghetti]|           [shrimp]| 0.2966417910447761|\n",
            "|           [shrimp]|        [spaghetti]| 0.1217457886676876|\n",
            "|           [shrimp]|[frozen vegetables]|0.17482517482517482|\n",
            "|[frozen vegetables]|           [shrimp]|0.23320895522388058|\n",
            "|           [shrimp]|        [chocolate]| 0.1098454027664768|\n",
            "|        [chocolate]|           [shrimp]|  0.251865671641791|\n",
            "|           [shrimp]|         [tomatoes]|0.16374269005847952|\n",
            "|         [tomatoes]|           [shrimp]|0.15671641791044774|\n",
            "|        [green tea]|           [shrimp]|0.16044776119402984|\n",
            "|             [milk]|           [shrimp]| 0.2462686567164179|\n",
            "|           [shrimp]|             [milk]| 0.1358024691358025|\n",
            "|             [eggs]|           [shrimp]|0.19776119402985073|\n",
            "|    [mineral water]|           [shrimp]| 0.3302238805970149|\n",
            "|      [ground beef]|           [shrimp]|0.16044776119402984|\n",
            "|           [shrimp]|      [ground beef]|0.11668928086838534|\n",
            "|          [burgers]|        [spaghetti]|0.12327718223583461|\n",
            "|        [spaghetti]|          [burgers]|0.24617737003058102|\n",
            "|          [burgers]|[frozen vegetables]|0.11048951048951049|\n",
            "|[frozen vegetables]|          [burgers]|0.12079510703363913|\n",
            "|          [burgers]|        [chocolate]|0.10414971521562244|\n",
            "|        [chocolate]|          [burgers]|0.19571865443425074|\n",
            "|          [burgers]|        [green tea]|0.13218970736629668|\n",
            "|        [green tea]|          [burgers]| 0.2003058103975535|\n",
            "|          [burgers]|             [milk]|0.13786008230452676|\n",
            "|             [milk]|          [burgers]|0.20489296636085627|\n",
            "|          [burgers]|             [eggs]| 0.1602373887240356|\n",
            "|             [eggs]|          [burgers]|0.33027522935779813|\n",
            "|          [burgers]|    [mineral water]|0.10234899328859061|\n",
            "|    [mineral water]|          [burgers]| 0.2798165137614679|\n",
            "|          [burgers]|     [french fries]|0.12870514820592824|\n",
            "|     [french fries]|          [burgers]|0.25229357798165136|\n",
            "|          [burgers]|      [ground beef]|0.12211668928086838|\n",
            "|      [ground beef]|          [burgers]|0.13761467889908255|\n",
            "|          [burgers]|             [cake]|0.14144736842105263|\n",
            "|             [cake]|          [burgers]| 0.1314984709480122|\n",
            "|          [burgers]|           [turkey]| 0.1705756929637527|\n",
            "|           [turkey]|          [burgers]|0.12232415902140673|\n",
            "|        [spaghetti]|[frozen vegetables]|0.29230769230769227|\n",
            "|[frozen vegetables]|        [spaghetti]|0.16003062787136293|\n",
            "|        [spaghetti]|         [escalope]|0.17647058823529413|\n",
            "|        [spaghetti]|        [chocolate]|0.23921887713588283|\n",
            "|        [chocolate]|        [spaghetti]|0.22511485451761104|\n",
            "|        [spaghetti]|            [honey]|               0.25|\n",
            "|        [spaghetti]|   [low fat yogurt]| 0.1986062717770035|\n",
            "|        [spaghetti]|         [tomatoes]| 0.3060428849902534|\n",
            "|         [tomatoes]|        [spaghetti]|0.12021439509954057|\n",
            "|        [spaghetti]|  [frozen smoothie]|0.24631578947368424|\n",
            "|        [spaghetti]|        [green tea]| 0.2008072653884965|\n",
            "|        [green tea]|        [spaghetti]|0.15237366003062788|\n",
            "|        [spaghetti]| [whole wheat rice]|0.24145785876993167|\n",
            "|        [spaghetti]|             [soup]| 0.2823218997361478|\n",
            "|        [spaghetti]|             [milk]|0.27366255144032925|\n",
            "|             [milk]|        [spaghetti]|0.20367534456355285|\n",
            "|        [spaghetti]|             [eggs]| 0.2032640949554896|\n",
            "|             [eggs]|        [spaghetti]|0.20980091883614088|\n",
            "|        [spaghetti]|           [salmon]| 0.3166144200626959|\n",
            "|        [spaghetti]|         [red wine]|0.36492890995260663|\n",
            "|        [spaghetti]|          [chicken]| 0.2866666666666667|\n",
            "|        [spaghetti]|      [cooking oil]|0.31070496083550914|\n",
            "|        [spaghetti]|    [mineral water]| 0.2505592841163311|\n",
            "|    [mineral water]|        [spaghetti]| 0.3430321592649311|\n",
            "|        [spaghetti]|    [grated cheese]| 0.3155216284987277|\n",
            "|        [spaghetti]|     [french fries]|0.16146645865834636|\n",
            "|     [french fries]|        [spaghetti]|0.15849923430321594|\n",
            "|        [spaghetti]|      [ground beef]| 0.3989145183175034|\n",
            "|      [ground beef]|        [spaghetti]|0.22511485451761104|\n",
            "|        [spaghetti]|             [cake]| 0.2236842105263158|\n",
            "|             [cake]|        [spaghetti]|0.10413476263399693|\n",
            "|        [spaghetti]|    [herb & pepper]|0.32884097035040427|\n",
            "|        [spaghetti]|        [olive oil]| 0.3481781376518219|\n",
            "|        [olive oil]|        [spaghetti]|0.13169984686064318|\n",
            "|        [spaghetti]|           [turkey]|0.26439232409381663|\n",
            "|[frozen vegetables]|        [chocolate]|0.13995117982099267|\n",
            "|        [chocolate]|[frozen vegetables]|0.24055944055944053|\n",
            "|   [low fat yogurt]|[frozen vegetables]| 0.1062937062937063|\n",
            "|[frozen vegetables]|   [low fat yogurt]|0.13240418118466898|\n",
            "|         [tomatoes]|[frozen vegetables]| 0.1692307692307692|\n",
            "|[frozen vegetables]|         [tomatoes]|0.23586744639376217|\n",
            "|        [green tea]|[frozen vegetables]|0.15104895104895105|\n",
            "|[frozen vegetables]|        [green tea]|0.10898082744702321|\n",
            "|             [milk]|[frozen vegetables]|0.24755244755244757|\n",
            "|[frozen vegetables]|             [milk]| 0.1820987654320988|\n",
            "|[frozen vegetables]|             [eggs]|0.12091988130563798|\n",
            "|             [eggs]|[frozen vegetables]|0.22797202797202798|\n",
            "|    [mineral water]|[frozen vegetables]|0.37482517482517486|\n",
            "|[frozen vegetables]|    [mineral water]| 0.1498881431767338|\n",
            "|[frozen vegetables]|     [french fries]|0.11154446177847115|\n",
            "|     [french fries]|[frozen vegetables]|0.19999999999999998|\n",
            "|      [ground beef]|[frozen vegetables]|0.17762237762237765|\n",
            "|[frozen vegetables]|      [ground beef]|0.17232021709633652|\n",
            "|             [cake]|[frozen vegetables]| 0.1076923076923077|\n",
            "|[frozen vegetables]|             [cake]|0.12664473684210528|\n",
            "|        [olive oil]|[frozen vegetables]|0.11888111888111888|\n",
            "|[frozen vegetables]|        [olive oil]|0.17206477732793524|\n",
            "|         [escalope]|        [chocolate]|0.10740439381611065|\n",
            "|        [chocolate]|         [escalope]|0.22184873949579834|\n",
            "|             [eggs]|         [escalope]|0.13949579831932774|\n",
            "|    [mineral water]|         [escalope]|0.21512605042016805|\n",
            "|     [french fries]|         [escalope]|0.20672268907563024|\n",
            "|        [chocolate]|   [low fat yogurt]|0.19337979094076657|\n",
            "|        [chocolate]|        [champagne]|0.24786324786324784|\n",
            "|        [chocolate]|         [tomatoes]| 0.2046783625730994|\n",
            "|        [chocolate]|  [frozen smoothie]|0.23578947368421052|\n",
            "|        [green tea]|        [chocolate]|0.14320585842148087|\n",
            "|        [chocolate]|        [green tea]|0.17759838546922302|\n",
            "|        [chocolate]| [whole wheat rice]|0.20501138952164008|\n",
            "|        [chocolate]|             [soup]|0.20052770448548812|\n",
            "|        [chocolate]|          [cookies]|0.12935323383084577|\n",
            "|             [milk]|        [chocolate]|0.19609438567941412|\n",
            "|        [chocolate]|             [milk]| 0.2479423868312757|\n",
            "|             [eggs]|        [chocolate]|0.20260374288039054|\n",
            "|        [chocolate]|             [eggs]| 0.1847181008902077|\n",
            "|        [chocolate]|           [salmon]| 0.2507836990595611|\n",
            "|        [chocolate]|          [chicken]|0.24444444444444446|\n",
            "|        [chocolate]|      [cooking oil]|0.26631853785900783|\n",
            "|    [mineral water]|        [chocolate]| 0.3213995117982099|\n",
            "|        [chocolate]|    [mineral water]|  0.220917225950783|\n",
            "|        [chocolate]|    [grated cheese]|0.20865139949109412|\n",
            "|        [chocolate]|     [french fries]|0.20124804992199688|\n",
            "|     [french fries]|        [chocolate]|  0.209926769731489|\n",
            "|      [ground beef]|        [chocolate]| 0.1407648494711147|\n",
            "|        [chocolate]|      [ground beef]|0.23473541383989144|\n",
            "|        [chocolate]|             [cake]|0.16776315789473684|\n",
            "|        [olive oil]|        [chocolate]| 0.1000813669650122|\n",
            "|        [chocolate]|        [olive oil]|0.24898785425101214|\n",
            "|        [chocolate]|           [turkey]|0.18123667377398722|\n",
            "|    [mineral water]|            [honey]|0.31741573033707865|\n",
            "|   [low fat yogurt]|             [milk]|0.10185185185185186|\n",
            "|             [milk]|   [low fat yogurt]|0.17247386759581884|\n",
            "|             [eggs]|   [low fat yogurt]|0.21951219512195125|\n",
            "|   [low fat yogurt]|    [mineral water]|0.10067114093959731|\n",
            "|    [mineral water]|   [low fat yogurt]|  0.313588850174216|\n",
            "|     [french fries]|   [low fat yogurt]|0.17421602787456447|\n",
            "|    [mineral water]|          [avocado]|              0.348|\n",
            "|        [green tea]|         [tomatoes]| 0.1793372319688109|\n",
            "|             [milk]|         [tomatoes]| 0.2046783625730994|\n",
            "|         [tomatoes]|             [milk]| 0.1080246913580247|\n",
            "|             [eggs]|         [tomatoes]| 0.1793372319688109|\n",
            "|         [tomatoes]|    [mineral water]|0.10234899328859061|\n",
            "|    [mineral water]|         [tomatoes]| 0.3567251461988304|\n",
            "|     [french fries]|         [tomatoes]|0.17543859649122806|\n",
            "|      [ground beef]|         [tomatoes]|0.17153996101364521|\n",
            "|         [tomatoes]|      [ground beef]|0.11940298507462688|\n",
            "|        [green tea]|  [frozen smoothie]| 0.1768421052631579|\n",
            "|             [milk]|  [frozen smoothie]|0.22526315789473686|\n",
            "|  [frozen smoothie]|             [milk]|0.11008230452674898|\n",
            "|             [eggs]|  [frozen smoothie]|0.17473684210526316|\n",
            "|    [mineral water]|  [frozen smoothie]|               0.32|\n",
            "|     [french fries]|  [frozen smoothie]|0.22947368421052633|\n",
            "|        [green tea]|          [cookies]|0.14925373134328357|\n",
            "|        [green tea]|             [milk]| 0.1358024691358025|\n",
            "|             [milk]|        [green tea]|0.13319878910191726|\n",
            "|        [green tea]|             [eggs]|0.14169139465875372|\n",
            "|             [eggs]|        [green tea]| 0.1927346115035318|\n",
            "|        [green tea]|          [chicken]| 0.1977777777777778|\n",
            "|        [green tea]|    [mineral water]| 0.1303131991051454|\n",
            "|    [mineral water]|        [green tea]|0.23511604439959638|\n",
            "|        [green tea]|     [french fries]| 0.1669266770670827|\n",
            "|     [french fries]|        [green tea]|0.21594349142280528|\n",
            "|        [green tea]|      [ground beef]|0.15061058344640435|\n",
            "|      [ground beef]|        [green tea]|0.11200807265388497|\n",
            "|        [green tea]|             [cake]| 0.1743421052631579|\n",
            "|             [cake]|        [green tea]|0.10696266397578205|\n",
            "|        [green tea]|           [turkey]|0.18976545842217488|\n",
            "|             [milk]| [whole wheat rice]| 0.2027334851936219|\n",
            "|             [eggs]| [whole wheat rice]|0.18678815489749429|\n",
            "|    [mineral water]| [whole wheat rice]| 0.3439635535307517|\n",
            "|     [french fries]| [whole wheat rice]|0.17995444191343962|\n",
            "|             [soup]|             [milk]|0.11728395061728396|\n",
            "|             [milk]|             [soup]| 0.3007915567282322|\n",
            "|    [mineral water]|             [soup]|0.45646437994722955|\n",
            "|             [eggs]|          [cookies]| 0.1310116086235489|\n",
            "|     [french fries]|          [cookies]|0.16583747927031509|\n",
            "|             [milk]|             [eggs]|0.17136498516320472|\n",
            "+-------------------+-------------------+-------------------+\n",
            "only showing top 200 rows\n",
            "\n"
          ],
          "name": "stdout"
        }
      ]
    }
  ]
}