{
  "nbformat": 4,
  "nbformat_minor": 0,
  "metadata": {
    "colab": {
      "name": "Word count.ipynb",
      "provenance": [],
      "collapsed_sections": []
    },
    "kernelspec": {
      "name": "python3",
      "display_name": "Python 3"
    }
  },
  "cells": [
    {
      "cell_type": "markdown",
      "metadata": {
        "id": "4hzSCIdbSJHf"
      },
      "source": [
        "51702082 Võ Văn Dương\n",
        "\n",
        "\n",
        "Bài tập 1: Spark và Đếm tần suất của từ"
      ]
    },
    {
      "cell_type": "code",
      "metadata": {
        "colab": {
          "base_uri": "https://localhost:8080/"
        },
        "id": "toBsmMzRFfXd",
        "outputId": "70586bf3-ac4b-4d84-89c9-82a181be08f7"
      },
      "source": [
        "!pip install pyspark"
      ],
      "execution_count": 1,
      "outputs": [
        {
          "output_type": "stream",
          "text": [
            "Collecting pyspark\n",
            "\u001b[?25l  Downloading https://files.pythonhosted.org/packages/f0/26/198fc8c0b98580f617cb03cb298c6056587b8f0447e20fa40c5b634ced77/pyspark-3.0.1.tar.gz (204.2MB)\n",
            "\u001b[K     |████████████████████████████████| 204.2MB 64kB/s \n",
            "\u001b[?25hCollecting py4j==0.10.9\n",
            "\u001b[?25l  Downloading https://files.pythonhosted.org/packages/9e/b6/6a4fb90cd235dc8e265a6a2067f2a2c99f0d91787f06aca4bcf7c23f3f80/py4j-0.10.9-py2.py3-none-any.whl (198kB)\n",
            "\u001b[K     |████████████████████████████████| 204kB 44.2MB/s \n",
            "\u001b[?25hBuilding wheels for collected packages: pyspark\n",
            "  Building wheel for pyspark (setup.py) ... \u001b[?25l\u001b[?25hdone\n",
            "  Created wheel for pyspark: filename=pyspark-3.0.1-py2.py3-none-any.whl size=204612242 sha256=0749b25586d27e9b0fe9cc40ff0a922e479d679a510cdf952aa3836d36c744fe\n",
            "  Stored in directory: /root/.cache/pip/wheels/5e/bd/07/031766ca628adec8435bb40f0bd83bb676ce65ff4007f8e73f\n",
            "Successfully built pyspark\n",
            "Installing collected packages: py4j, pyspark\n",
            "Successfully installed py4j-0.10.9 pyspark-3.0.1\n"
          ],
          "name": "stdout"
        }
      ]
    },
    {
      "cell_type": "code",
      "metadata": {
        "id": "YQhCqJ-OFoqB"
      },
      "source": [
        "import pyspark\n",
        "from pyspark import SparkContext, SparkConf\n",
        "import collections"
      ],
      "execution_count": 4,
      "outputs": []
    },
    {
      "cell_type": "code",
      "metadata": {
        "id": "UhaolQ0yFpIC"
      },
      "source": [
        "conf = SparkConf().setMaster('local').setAppName('Word Counting')\n",
        "sc = SparkContext.getOrCreate(conf=conf)"
      ],
      "execution_count": 5,
      "outputs": []
    },
    {
      "cell_type": "code",
      "metadata": {
        "colab": {
          "base_uri": "https://localhost:8080/"
        },
        "id": "09TC7g71Gh7n",
        "outputId": "91bd917b-61dc-497f-c03b-ace6a7ea456d"
      },
      "source": [
        "# read data from text file and split each line into words\n",
        "words = sc.textFile(\"input.txt\").flatMap(lambda line: line.split(\" \"))\n",
        "print(words.collect())"
      ],
      "execution_count": 25,
      "outputs": [
        {
          "output_type": "stream",
          "text": [
            "['Lorem', 'ipsum', 'dolor', 'sit', 'amet,', 'consectetur', 'adipiscing', 'elit.', 'Vestibulum', 'rutrum', 'eleifend', 'bibendum.', 'Integer', 'a', 'est', 'sit', 'amet', 'enim', 'ullamcorper', 'sollicitudin', 'vel', 'vitae', 'quam.', 'Nunc', 'vel', 'arcu', 'sed', 'massa', 'congue', 'pretium', 'a', 'non', 'massa.', 'Aenean', 'hendrerit', 'pellentesque', 'sagittis.', 'Etiam', 'rhoncus', 'elit', 'eget', 'placerat', 'tristique.', 'Curabitur', 'sagittis', 'diam', 'in', 'erat', 'tincidunt,', 'et', 'placerat', 'magna', 'porta.', 'Praesent', 'id', 'posuere', 'dolor.', 'Morbi', 'et', 'ex', 'sodales,', 'hendrerit', 'neque', 'nec,', 'facilisis', 'nunc.', 'Mauris', 'porta', 'ligula', 'libero,', 'eu', 'egestas', 'turpis', 'condimentum', 'a.', 'Aliquam', 'dictum', 'lorem', 'eget', 'nisi', 'viverra,', 'ut', 'ultricies', 'turpis', 'consequat.', 'Pellentesque', 'mattis', 'tortor', 'nec', 'lacinia', 'venenatis.', 'Vestibulum', 'nisi', 'orci,', 'venenatis', 'a', 'libero', 'quis,', 'semper', 'efficitur', 'dolor.', 'Nullam', 'faucibus', 'arcu', 'nunc,', 'non', 'dictum', 'sapien', 'placerat', 'at.', 'Suspendisse', 'finibus', 'magna', 'ut', 'dolor', 'sagittis,', 'vel', 'tincidunt', 'lorem', 'facilisis.', 'Pellentesque', 'tristique', 'enim', 'mauris,', 'sit', 'amet', 'maximus', 'odio', 'finibus', 'ut.', 'Donec', 'mollis', 'lorem', 'eu', 'ex', 'consectetur,', 'et', 'dapibus', 'erat', 'eleifend.', 'Duis', 'volutpat', 'eros', 'vel', 'erat', 'sagittis,', 'sollicitudin', 'ornare', 'lacus', 'varius.', 'Nunc', 'id', 'libero', 'nibh.', 'Pellentesque', 'habitant', 'morbi', 'tristique', 'senectus', 'et', 'netus', 'et', 'malesuada', 'fames', 'ac', 'turpis', 'egestas.', 'Vestibulum', 'sem', 'ante,', 'sodales', 'non', 'facilisis', 'volutpat,', 'placerat', 'id', 'diam.', 'Mauris', 'venenatis', 'ligula', 'in', 'est', 'congue', 'elementum.', 'Nam', 'sit', 'amet', 'vulputate', 'nulla.', 'Curabitur', 'a', 'placerat', 'ligula.', 'Integer', 'justo', 'tortor,', 'efficitur', 'sit', 'amet', 'enim', 'vitae,', 'volutpat', 'eleifend', 'augue.', 'Quisque', 'convallis', 'auctor', 'justo', 'in', 'mattis.', 'Nullam', 'efficitur', 'porta', 'aliquam.', 'Donec', 'est', 'arcu,', 'placerat', 'at', 'diam', 'quis,', 'fringilla', 'hendrerit', 'sem.', 'Nullam', 'rutrum', 'porttitor', 'ipsum,', 'id', 'venenatis', 'tortor', 'lacinia', 'id.', 'Etiam', 'vel', 'libero', 'leo.', 'Proin', 'mattis', 'posuere', 'imperdiet.', 'Phasellus', 'ligula', 'nibh,', 'viverra', 'ut', 'rhoncus', 'laoreet,', 'viverra', 'non', 'ante.', 'Proin', 'eleifend', 'felis', 'id', 'est', 'ultricies', 'suscipit.', 'Morbi', 'hendrerit', 'tellus', 'pulvinar,', 'fringilla', 'orci', 'ut,', 'semper', 'orci.', 'Suspendisse', 'potenti.', 'Nam', 'a', 'rutrum', 'neque.', 'Aenean', 'mollis', 'felis', 'eget', 'iaculis', 'tristique.', 'Vivamus', 'porttitor', 'iaculis', 'mollis.', 'Nulla', 'nec', 'aliquet', 'mi,', 'eget', 'sollicitudin', 'ipsum.', 'Praesent', 'faucibus', 'lacinia', 'orci.', 'Quisque', 'placerat', 'faucibus', 'velit', 'ac', 'mollis.', 'Cras', 'elementum,', 'mauris', 'vitae', 'convallis', 'fringilla,', 'arcu', 'sem', 'pretium', 'lorem,', 'vel', 'rhoncus', 'enim', 'nulla', 'quis', 'sem.', 'Orci', 'varius', 'natoque', 'penatibus', 'et', 'magnis', 'dis', 'parturient', 'montes,', 'nascetur', 'ridiculus', 'mus.', 'In', 'euismod', 'metus', 'elementum', 'lorem', 'consectetur,', 'ut', 'pellentesque', 'arcu', 'ultricies.', 'Maecenas', 'hendrerit', 'elementum', 'ornare.', 'Donec', 'vestibulum', 'urna', 'vitae', 'ex', 'bibendum,', 'ac', 'rhoncus', 'lacus', 'mattis.', 'Aenean', 'ut', 'sagittis', 'neque,', 'et', 'tincidunt', 'nulla.', 'Sed', 'hendrerit', 'dictum', 'odio,', 'vitae', 'rhoncus', 'turpis', 'accumsan', 'non.', 'Pellentesque', 'in', 'ipsum', 'ante.']\n"
          ],
          "name": "stdout"
        }
      ]
    },
    {
      "cell_type": "code",
      "metadata": {
        "colab": {
          "base_uri": "https://localhost:8080/"
        },
        "id": "NqIY0hywP6dM",
        "outputId": "060aa90d-e608-4a3c-a0dd-74d8d62fb277"
      },
      "source": [
        "# count total word\n",
        "total_word = words.map(lambda word: 1).reduce(lambda a, b: a + b)\n",
        "print(total_word)"
      ],
      "execution_count": 36,
      "outputs": [
        {
          "output_type": "stream",
          "text": [
            "372\n"
          ],
          "name": "stdout"
        }
      ]
    },
    {
      "cell_type": "code",
      "metadata": {
        "colab": {
          "base_uri": "https://localhost:8080/"
        },
        "id": "xkqtVL8ZHYZE",
        "outputId": "a6bcd91e-a69e-4e28-b9ba-86278a2bed54"
      },
      "source": [
        "# count the occurrence of each word\n",
        "word_counts = words.map(lambda word: (word, 1)).reduceByKey(lambda a, b: a + b)\n",
        "\n",
        "print(word_counts.collect())"
      ],
      "execution_count": 29,
      "outputs": [
        {
          "output_type": "stream",
          "text": [
            "[('Lorem', 1), ('ipsum', 2), ('dolor', 2), ('sit', 5), ('amet,', 1), ('consectetur', 1), ('adipiscing', 1), ('elit.', 1), ('Vestibulum', 3), ('rutrum', 3), ('eleifend', 3), ('bibendum.', 1), ('Integer', 2), ('a', 5), ('est', 4), ('amet', 4), ('enim', 4), ('ullamcorper', 1), ('sollicitudin', 3), ('vel', 6), ('vitae', 4), ('quam.', 1), ('Nunc', 2), ('arcu', 4), ('sed', 1), ('massa', 1), ('congue', 2), ('pretium', 2), ('non', 4), ('massa.', 1), ('Aenean', 3), ('hendrerit', 6), ('pellentesque', 2), ('sagittis.', 1), ('Etiam', 2), ('rhoncus', 5), ('elit', 1), ('eget', 4), ('placerat', 7), ('tristique.', 2), ('Curabitur', 2), ('sagittis', 2), ('diam', 2), ('in', 4), ('erat', 3), ('tincidunt,', 1), ('et', 7), ('magna', 2), ('porta.', 1), ('Praesent', 2), ('id', 5), ('posuere', 2), ('dolor.', 2), ('Morbi', 2), ('ex', 3), ('sodales,', 1), ('neque', 1), ('nec,', 1), ('facilisis', 2), ('nunc.', 1), ('Mauris', 2), ('porta', 2), ('ligula', 3), ('libero,', 1), ('eu', 2), ('egestas', 1), ('turpis', 4), ('condimentum', 1), ('a.', 1), ('Aliquam', 1), ('dictum', 3), ('lorem', 4), ('nisi', 2), ('viverra,', 1), ('ut', 5), ('ultricies', 2), ('consequat.', 1), ('Pellentesque', 4), ('mattis', 2), ('tortor', 2), ('nec', 2), ('lacinia', 3), ('venenatis.', 1), ('orci,', 1), ('venenatis', 3), ('libero', 3), ('quis,', 2), ('semper', 2), ('efficitur', 3), ('Nullam', 3), ('faucibus', 3), ('nunc,', 1), ('sapien', 1), ('at.', 1), ('Suspendisse', 2), ('finibus', 2), ('sagittis,', 2), ('tincidunt', 2), ('facilisis.', 1), ('tristique', 2), ('mauris,', 1), ('maximus', 1), ('odio', 1), ('ut.', 1), ('Donec', 3), ('mollis', 2), ('consectetur,', 2), ('dapibus', 1), ('eleifend.', 1), ('Duis', 1), ('volutpat', 2), ('eros', 1), ('ornare', 1), ('lacus', 2), ('varius.', 1), ('nibh.', 1), ('habitant', 1), ('morbi', 1), ('senectus', 1), ('netus', 1), ('malesuada', 1), ('fames', 1), ('ac', 3), ('egestas.', 1), ('sem', 2), ('ante,', 1), ('sodales', 1), ('volutpat,', 1), ('diam.', 1), ('elementum.', 1), ('Nam', 2), ('vulputate', 1), ('nulla.', 2), ('ligula.', 1), ('justo', 2), ('tortor,', 1), ('vitae,', 1), ('augue.', 1), ('Quisque', 2), ('convallis', 2), ('auctor', 1), ('mattis.', 2), ('aliquam.', 1), ('arcu,', 1), ('at', 1), ('fringilla', 2), ('sem.', 2), ('porttitor', 2), ('ipsum,', 1), ('id.', 1), ('leo.', 1), ('Proin', 2), ('imperdiet.', 1), ('Phasellus', 1), ('nibh,', 1), ('viverra', 2), ('laoreet,', 1), ('ante.', 2), ('felis', 2), ('suscipit.', 1), ('tellus', 1), ('pulvinar,', 1), ('orci', 1), ('ut,', 1), ('orci.', 2), ('potenti.', 1), ('neque.', 1), ('iaculis', 2), ('Vivamus', 1), ('mollis.', 2), ('Nulla', 1), ('aliquet', 1), ('mi,', 1), ('ipsum.', 1), ('velit', 1), ('Cras', 1), ('elementum,', 1), ('mauris', 1), ('fringilla,', 1), ('lorem,', 1), ('nulla', 1), ('quis', 1), ('Orci', 1), ('varius', 1), ('natoque', 1), ('penatibus', 1), ('magnis', 1), ('dis', 1), ('parturient', 1), ('montes,', 1), ('nascetur', 1), ('ridiculus', 1), ('mus.', 1), ('In', 1), ('euismod', 1), ('metus', 1), ('elementum', 2), ('ultricies.', 1), ('Maecenas', 1), ('ornare.', 1), ('vestibulum', 1), ('urna', 1), ('bibendum,', 1), ('neque,', 1), ('Sed', 1), ('odio,', 1), ('accumsan', 1), ('non.', 1)]\n"
          ],
          "name": "stdout"
        }
      ]
    },
    {
      "cell_type": "code",
      "metadata": {
        "colab": {
          "base_uri": "https://localhost:8080/"
        },
        "id": "X9QHAVqTPoMT",
        "outputId": "fd64fda3-d3ba-4b35-b881-dc299d78d4a9"
      },
      "source": [
        "output = word_counts.sortBy(lambda x: x[1], ascending=False).take(20)\n",
        "for (word, count) in output:\n",
        "  print(word, count)"
      ],
      "execution_count": 49,
      "outputs": [
        {
          "output_type": "stream",
          "text": [
            "placerat 7\n",
            "et 7\n",
            "vel 6\n",
            "hendrerit 6\n",
            "sit 5\n",
            "a 5\n",
            "rhoncus 5\n",
            "id 5\n",
            "ut 5\n",
            "est 4\n",
            "amet 4\n",
            "enim 4\n",
            "vitae 4\n",
            "arcu 4\n",
            "non 4\n",
            "eget 4\n",
            "in 4\n",
            "turpis 4\n",
            "lorem 4\n",
            "Pellentesque 4\n"
          ],
          "name": "stdout"
        }
      ]
    }
  ]
}