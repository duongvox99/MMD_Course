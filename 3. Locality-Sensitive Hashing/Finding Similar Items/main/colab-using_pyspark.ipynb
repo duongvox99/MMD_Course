{
  "nbformat": 4,
  "nbformat_minor": 0,
  "metadata": {
    "colab": {
      "name": "using_pyspark.ipynb",
      "provenance": [],
      "collapsed_sections": [],
      "toc_visible": true
    },
    "kernelspec": {
      "display_name": "Python 3",
      "language": "python",
      "name": "python3"
    },
    "language_info": {
      "codemirror_mode": {
        "name": "ipython",
        "version": 3
      },
      "file_extension": ".py",
      "mimetype": "text/x-python",
      "name": "python",
      "nbconvert_exporter": "python",
      "pygments_lexer": "ipython3",
      "version": "3.8.5"
    }
  },
  "cells": [
    {
      "cell_type": "code",
      "metadata": {
        "colab": {
          "base_uri": "https://localhost:8080/"
        },
        "id": "WuNkxluzkgI1",
        "outputId": "deb196cd-e84b-45b4-9ca5-295e98d7911e"
      },
      "source": [
        "!pip install pyspark"
      ],
      "execution_count": null,
      "outputs": [
        {
          "output_type": "stream",
          "text": [
            "Requirement already satisfied: pyspark in /usr/local/lib/python3.7/dist-packages (3.1.1)\n",
            "Requirement already satisfied: py4j==0.10.9 in /usr/local/lib/python3.7/dist-packages (from pyspark) (0.10.9)\n"
          ],
          "name": "stdout"
        }
      ]
    },
    {
      "cell_type": "code",
      "metadata": {
        "colab": {
          "base_uri": "https://localhost:8080/"
        },
        "id": "Y9P3GKxevkHJ",
        "outputId": "5fe096ce-7225-4767-9daf-8f57c0c05ae3"
      },
      "source": [
        "!gdown --id 1n8pRtb_V_zc-Xk0ODm-LkDIXT6brkaaV"
      ],
      "execution_count": null,
      "outputs": [
        {
          "output_type": "stream",
          "text": [
            "Downloading...\n",
            "From: https://drive.google.com/uc?id=1n8pRtb_V_zc-Xk0ODm-LkDIXT6brkaaV\n",
            "To: /content/newspapers.zip\n",
            "\r  0% 0.00/.9k [00:00<?, ?B/s]\r100% 874k/874k [00:00<00:00, 16.3MB/s]\n"
          ],
          "name": "stdout"
        }
      ]
    },
    {
      "cell_type": "code",
      "metadata": {
        "id": "2t4miid2eE5A"
      },
      "source": [
        "# https://drive.google.com/file/d/1n8pRtb_V_zc-Xk0ODm-LkDIXT6brkaaV/view?usp=sharing"
      ],
      "execution_count": null,
      "outputs": []
    },
    {
      "cell_type": "code",
      "metadata": {
        "colab": {
          "base_uri": "https://localhost:8080/"
        },
        "id": "lvcTsDJpvqGf",
        "outputId": "48ae508e-5a8f-4347-8b59-5e50f34554dc"
      },
      "source": [
        "!unzip /content/newspapers.zip"
      ],
      "execution_count": null,
      "outputs": [
        {
          "output_type": "stream",
          "text": [
            "Archive:  /content/newspapers.zip\n",
            "replace newspapers/1.136 hồ sơ ứng cử đại biểu Quốc hội.txt? [y]es, [n]o, [A]ll, [N]one, [r]ename: y\n",
            "  inflating: newspapers/1.136 hồ sơ ứng cử đại biểu Quốc hội.txt  \n",
            "replace newspapers/1.500 tỷ làm đường vành đai hai năm vẫn ngổn ngang, Đà Nẵng thanh tra gấp.txt? [y]es, [n]o, [A]ll, [N]one, [r]ename: a\n",
            "error:  invalid response [a]\n",
            "replace newspapers/1.500 tỷ làm đường vành đai hai năm vẫn ngổn ngang, Đà Nẵng thanh tra gấp.txt? [y]es, [n]o, [A]ll, [N]one, [r]ename: A\n",
            "  inflating: newspapers/1.500 tỷ làm đường vành đai hai năm vẫn ngổn ngang, Đà Nẵng thanh tra gấp.txt  \n",
            "  inflating: newspapers/2 tàu cá Việt Nam với gần 40 ngư dân bị Indonesia bắt giữ.txt  \n",
            "  inflating: newspapers/3 ôtô tông liên hoàn ở cửa ngõ Sài Gòn.txt  \n",
            "  inflating: newspapers/4 ôtô tông liên hoàn khi dừng đèn đỏ.txt  \n",
            "  inflating: newspapers/5 bài học kinh nghiệm trong điều hành của Chính phủ.txt  \n",
            "  inflating: newspapers/5 ôtô tông liên hoàn trên quốc lộ 51.txt  \n",
            "  inflating: newspapers/6 người ở Hà Nội tiếp xúc gần với ca nghi nhiễm.txt  \n",
            "  inflating: newspapers/9 dự án BOT xuống cấp không ai sửa, Bộ GTVT 'loay hoay' tìm giải pháp.txt  \n",
            "  inflating: newspapers/9 lãnh đạo xã dùng bằng giả.txt  \n",
            "  inflating: newspapers/9X trộm xe ô tô từ Hà Tĩnh lái vào Quảng Trị gặp bạn gái quen qua mạng.txt  \n",
            "  inflating: newspapers/10 gương mặt trẻ thủ đô tiêu biểu năm 2020.txt  \n",
            "  inflating: newspapers/12 lao động tàu cá Bình Định đã mất liên lạc nhiều ngày.txt  \n",
            "  inflating: newspapers/16.000 viên ma túy giấu trong mớ rau, vứt bên vệ đường.txt  \n",
            "  inflating: newspapers/17 năm sống 'chui' vì quy hoạch treo.txt  \n",
            "  inflating: newspapers/19 thành viên Ủy ban Kiểm tra Trung ương công khai tài sản, thu nhập.txt  \n",
            "  inflating: newspapers/25 chức danh lãnh đạo sắp được kiện toàn.txt  \n",
            "  inflating: newspapers/40 km quy hoạch phân khu đô thị sông Hồng.txt  \n",
            "  inflating: newspapers/42 năm cuộc chiến đấu bảo vệ biên giới phía Bắc Đánh trả quân xâm lược Trung Quốc.txt  \n",
            "  inflating: newspapers/42 năm cuộc chiến đấu bảo vệ biên giới phía Bắc Giữ đất, đuổi thù.txt  \n",
            "  inflating: newspapers/77 người tự ứng cử đại biểu Quốc hội khóa mới.txt  \n",
            "  inflating: newspapers/Lên kế hoạch cưỡng chế khu đất bị Trần Thị Ngọc Nữ lấn chiếm.txt  \n",
            "  inflating: newspapers/Lễ xuất quân của chiến sĩ mũ nồi xanh làm nhiệm vụ gìn giữ hòa bình.txt  \n",
            "  inflating: newspapers/Liên tiếp hai công nhân bị than vùi chết ở Quảng Ninh.txt  \n",
            "  inflating: newspapers/Lo ngại xuất hiện đợt dịch Covid-19 thứ 4 tại Việt Nam.txt  \n",
            "  inflating: newspapers/Long An khánh thành khu công nghiệp gần 130 ha.txt  \n",
            "  inflating: newspapers/Long An Nam thanh niên bỏ lại dép, nón rồi nhảy cầu Bến Lức.txt  \n"
          ],
          "name": "stdout"
        }
      ]
    },
    {
      "cell_type": "code",
      "metadata": {
        "id": "fX8zxEk2lTK4"
      },
      "source": [
        "from pyspark import SparkConf, SparkContext\n",
        "from nltk import word_tokenize\n",
        "from nltk.util import ngrams\n",
        "from random import shuffle\n",
        "import pyspark\n",
        "import nltk\n",
        "import numpy as np\n",
        "import re\n",
        "import os\n",
        "import time"
      ],
      "execution_count": null,
      "outputs": []
    },
    {
      "cell_type": "code",
      "metadata": {
        "colab": {
          "base_uri": "https://localhost:8080/"
        },
        "id": "707PeornJYl8",
        "outputId": "56fad4aa-da79-40f3-ec2e-458b3aef9b3e"
      },
      "source": [
        "nltk.download('punkt')"
      ],
      "execution_count": null,
      "outputs": [
        {
          "output_type": "stream",
          "text": [
            "[nltk_data] Downloading package punkt to /root/nltk_data...\n",
            "[nltk_data]   Package punkt is already up-to-date!\n"
          ],
          "name": "stdout"
        },
        {
          "output_type": "execute_result",
          "data": {
            "text/plain": [
              "True"
            ]
          },
          "metadata": {
            "tags": []
          },
          "execution_count": 33
        }
      ]
    },
    {
      "cell_type": "code",
      "metadata": {
        "id": "z4DltgMZn-yB"
      },
      "source": [
        "sc = SparkContext(master=\"local\", appName=\"SimilarNewspapers\")"
      ],
      "execution_count": null,
      "outputs": []
    },
    {
      "cell_type": "code",
      "metadata": {
        "colab": {
          "base_uri": "https://localhost:8080/"
        },
        "id": "eA5erKI0w-mm",
        "outputId": "82ff0c1b-cba9-4654-ae42-0d16be65841c"
      },
      "source": [
        "newspapers = os.listdir('newspapers/')\n",
        "print(len(newspapers))"
      ],
      "execution_count": null,
      "outputs": [
        {
          "output_type": "stream",
          "text": [
            "497\n"
          ],
          "name": "stdout"
        }
      ]
    },
    {
      "cell_type": "code",
      "metadata": {
        "colab": {
          "base_uri": "https://localhost:8080/"
        },
        "id": "8vehQ2MQxpWl",
        "outputId": "eadc50a3-c934-4ce0-d820-108d6bc41660"
      },
      "source": [
        "data = sc.wholeTextFiles('newspapers')\n",
        "data.collect()[0]"
      ],
      "execution_count": null,
      "outputs": [
        {
          "output_type": "execute_result",
          "data": {
            "text/plain": [
              "(\"file:/content/newspapers/9 dự án BOT xuống cấp không ai sửa, Bộ GTVT 'loay hoay' tìm giải pháp.txt\",\n",
              " \"https://vietnamnet.vn/vn/thoi-su/vn/thoi-su/an-toan-giao-thong/9-du-an-bot-xuong-cap-khong-ai-sua-bo-gtvt-loay-hoay-tim-giai-phap-720967.html\\r\\n9 dự án BOT xuống cấp không ai sửa, Bộ GTVT 'loay hoay' tìm giải pháp\\r\\nBộ GTVT yêu cầu Tổng cục Đường bộ đề xuất giải pháp tạm thời để xử lý tình huống vướng mắc trong quản lý, bảo trì đối với các dự án BOT đang tạm dừng thu phí.Bộ GTVT vừa yêu cầu Tổng cục Đường bộ Việt Nam có giải pháp tham mưu cho lãnh đạo Bộ để quản lý, bảo trì các tuyến đường đầu tư theo hình thức BOT trong thời gian dừng thu phí đến khi hoàn tất thủ tục xác lập quyền sở hữu toàn dân về tài sản...Tham mưu cho Bộ giải pháp tạm thời để xử lý tình huống một số vướng mắc trong quản lý, bảo trì đối với những tuyến đường đầu tư theo hình thức BOT trong thời gian tạm dừng thu phí, đảm bảo đúng theo quy định pháp luật.Trong đó, cần lưu ý những phương án có thể thực hiện ngay công tác bảo quản, đảm bảo ATGT trong giai đoạn này.Đường tránh BOT Thanh Hoá bị hằn lún nhưng mãi không sửa, đi lại rất nguy hiểmTổng cục Đường bộ cho biết, hiện có 9 dự án BOT đang tạm dừng thu phí là những dự án sắp kết thúc hợp đồng.Trong số này, có 4 dự án nhà đầu tư dừng không thực hiện bảo trì là dự án QL2 đoạn Nội Bài - Vĩnh Yên, QL1 đoạn tránh Hà Tĩnh, QL1K đoạn Km 2+478-Km 12+971 và QL1 đoạn tránh Cai Lậy.Có 2 dự án nhà đầu tư bảo trì cầm chừng không đạt chất lượng là dự án QL1 đoạn tránh TP Thanh Hóa và QL91 đoạn Km14 - Km 50+889. Có 3 dự án nhà đầu tư vẫn tiếp tục bảo trì là dự án xây dựng cầu Đồng Nai, QL20 đoạn qua các thị trấn và QL1 đoạn Hòa Cầm - Hòa Phước và Tứ Câu - Vĩnh Điện.Theo Tổng cục Đường bộ, các dự án trên chưa thanh lý được hợp đồng, bàn giao công trình do cơ quan quản lý và nhà đầu tư chưa thống nhất được các chi phí để xác định thời gian hoàn vốn như: Lợi nhuận nhà đầu tư trong giai đoạn xây dựng, một số chi phí, lãi vay nên chưa xác định thời điểm dừng thu phí.Để tránh việc thu phí vượt quá thời gian, Tổng cục Đường bộ chủ động tạm dừng thu phí các dự án trên.Sau khi dừng hoặc tạm dừng thu phí để thực hiện thanh lý hợp đồng, một số DN dự án đã dừng việc bảo trì, không cấp kinh phí vận hành công trình hoặc thực hiện kém hiệu quả.Những dự án nhà đầu tư dừng không bảo trì hoặc bảo trì không đạt yêu cầu, Tổng cục Đường bộ đã đàm phán, thương thảo nhiều lần, nhưng với lý do không được thu phí, không có quy định pháp lý nên các nhà đầu tư vẫn không thực hiện khiến công trình phát sinh hư hỏng.9 dự án BOT xuống cấp, không ai sửa vì vướng cơ chế 9 dự án BOT giao thông dừng thu phí đang xuống cấp, tiềm ẩn nguy cơ mất an toàn giao thông nhưng lại không thể bố trí vốn để sửa chữa do vướng cơ chế.Vũ Điệp\")"
            ]
          },
          "metadata": {
            "tags": []
          },
          "execution_count": 4
        }
      ]
    },
    {
      "cell_type": "code",
      "metadata": {
        "colab": {
          "base_uri": "https://localhost:8080/",
          "height": 35
        },
        "id": "0r_DjFlvJFLq",
        "outputId": "072a4938-6f77-4166-99e1-029f851a81a5"
      },
      "source": [
        "def clean_text(text):\n",
        "    text = text.replace('\\n', ' ')\n",
        "    text = text.lower()\n",
        "    text = re.sub('\\W+', ' ', text)\n",
        "    text = text.strip()\n",
        "    \n",
        "    return text\n",
        "  \n",
        "clean_text('This is a  a  test \\n asdklf      \\t asdf')"
      ],
      "execution_count": null,
      "outputs": [
        {
          "output_type": "execute_result",
          "data": {
            "application/vnd.google.colaboratory.intrinsic+json": {
              "type": "string"
            },
            "text/plain": [
              "'this is a a test asdklf asdf'"
            ]
          },
          "metadata": {
            "tags": []
          },
          "execution_count": 5
        }
      ]
    },
    {
      "cell_type": "code",
      "metadata": {
        "colab": {
          "base_uri": "https://localhost:8080/"
        },
        "id": "S1gA2eKkpDH5",
        "outputId": "afb5102b-13bb-46a8-833f-a64ce7895eb8"
      },
      "source": [
        "data = data.map(lambda abc: (abc[0], abc[1].split(\"\\n\")))\n",
        "data.collect()[0]\n",
        "data = data.map(lambda abc: (abc[0], clean_text(abc[1][1]+abc[1][2])))\n",
        "data.collect()[0]"
      ],
      "execution_count": null,
      "outputs": [
        {
          "output_type": "execute_result",
          "data": {
            "text/plain": [
              "(\"file:/content/newspapers/9 dự án BOT xuống cấp không ai sửa, Bộ GTVT 'loay hoay' tìm giải pháp.txt\",\n",
              " '9 dự án bot xuống cấp không ai sửa bộ gtvt loay hoay tìm giải pháp bộ gtvt yêu cầu tổng cục đường bộ đề xuất giải pháp tạm thời để xử lý tình huống vướng mắc trong quản lý bảo trì đối với các dự án bot đang tạm dừng thu phí bộ gtvt vừa yêu cầu tổng cục đường bộ việt nam có giải pháp tham mưu cho lãnh đạo bộ để quản lý bảo trì các tuyến đường đầu tư theo hình thức bot trong thời gian dừng thu phí đến khi hoàn tất thủ tục xác lập quyền sở hữu toàn dân về tài sản tham mưu cho bộ giải pháp tạm thời để xử lý tình huống một số vướng mắc trong quản lý bảo trì đối với những tuyến đường đầu tư theo hình thức bot trong thời gian tạm dừng thu phí đảm bảo đúng theo quy định pháp luật trong đó cần lưu ý những phương án có thể thực hiện ngay công tác bảo quản đảm bảo atgt trong giai đoạn này đường tránh bot thanh hoá bị hằn lún nhưng mãi không sửa đi lại rất nguy hiểmtổng cục đường bộ cho biết hiện có 9 dự án bot đang tạm dừng thu phí là những dự án sắp kết thúc hợp đồng trong số này có 4 dự án nhà đầu tư dừng không thực hiện bảo trì là dự án ql2 đoạn nội bài vĩnh yên ql1 đoạn tránh hà tĩnh ql1k đoạn km 2 478 km 12 971 và ql1 đoạn tránh cai lậy có 2 dự án nhà đầu tư bảo trì cầm chừng không đạt chất lượng là dự án ql1 đoạn tránh tp thanh hóa và ql91 đoạn km14 km 50 889 có 3 dự án nhà đầu tư vẫn tiếp tục bảo trì là dự án xây dựng cầu đồng nai ql20 đoạn qua các thị trấn và ql1 đoạn hòa cầm hòa phước và tứ câu vĩnh điện theo tổng cục đường bộ các dự án trên chưa thanh lý được hợp đồng bàn giao công trình do cơ quan quản lý và nhà đầu tư chưa thống nhất được các chi phí để xác định thời gian hoàn vốn như lợi nhuận nhà đầu tư trong giai đoạn xây dựng một số chi phí lãi vay nên chưa xác định thời điểm dừng thu phí để tránh việc thu phí vượt quá thời gian tổng cục đường bộ chủ động tạm dừng thu phí các dự án trên sau khi dừng hoặc tạm dừng thu phí để thực hiện thanh lý hợp đồng một số dn dự án đã dừng việc bảo trì không cấp kinh phí vận hành công trình hoặc thực hiện kém hiệu quả những dự án nhà đầu tư dừng không bảo trì hoặc bảo trì không đạt yêu cầu tổng cục đường bộ đã đàm phán thương thảo nhiều lần nhưng với lý do không được thu phí không có quy định pháp lý nên các nhà đầu tư vẫn không thực hiện khiến công trình phát sinh hư hỏng 9 dự án bot xuống cấp không ai sửa vì vướng cơ chế 9 dự án bot giao thông dừng thu phí đang xuống cấp tiềm ẩn nguy cơ mất an toàn giao thông nhưng lại không thể bố trí vốn để sửa chữa do vướng cơ chế vũ điệp')"
            ]
          },
          "metadata": {
            "tags": []
          },
          "execution_count": 6
        }
      ]
    },
    {
      "cell_type": "markdown",
      "metadata": {
        "id": "qdwhe4-O7nMf"
      },
      "source": [
        "**Step 1: Shingling**"
      ]
    },
    {
      "cell_type": "code",
      "metadata": {
        "colab": {
          "base_uri": "https://localhost:8080/"
        },
        "id": "vNuYzwP-JNr1",
        "outputId": "4d2654a9-2d3e-433e-b2dd-246ccce9d1dc"
      },
      "source": [
        "def calculate_join_grams(text, n):\n",
        "    words = word_tokenize(text)\n",
        "    n_gram = ngrams(words, n)\n",
        "    join_grams = [' '.join(list(gram)) for gram in n_gram]\n",
        "    \n",
        "    return join_grams\n",
        "  \n",
        "calculate_join_grams('This is a test', n=3)"
      ],
      "execution_count": null,
      "outputs": [
        {
          "output_type": "execute_result",
          "data": {
            "text/plain": [
              "['This is a', 'is a test']"
            ]
          },
          "metadata": {
            "tags": []
          },
          "execution_count": 7
        }
      ]
    },
    {
      "cell_type": "code",
      "metadata": {
        "id": "sY5V9BKCvcV0",
        "colab": {
          "base_uri": "https://localhost:8080/"
        },
        "outputId": "2a65cd59-787f-47f3-ebb6-2d9d210f9619"
      },
      "source": [
        "start_time = time.time()\n",
        "\n",
        "shingles = data.flatMap(lambda abc: calculate_join_grams(abc[1], 3))\n",
        "shingles = shingles.distinct()\n",
        "shingles = shingles.collect()\n",
        "\n",
        "print(f'--- {time.time() - start_time} seconds ---')\n",
        "print(len(shingles))"
      ],
      "execution_count": null,
      "outputs": [
        {
          "output_type": "stream",
          "text": [
            "--- 3.9961960315704346 seconds ---\n",
            "178922\n"
          ],
          "name": "stdout"
        }
      ]
    },
    {
      "cell_type": "code",
      "metadata": {
        "id": "_XekeXxaJg6Y"
      },
      "source": [
        "def create_newspaper_vector(cleaned_title_and_content):   \n",
        "    exist_booleans = list()\n",
        "    for shingle in shingles:\n",
        "        if cleaned_title_and_content.find(shingle) != -1:\n",
        "            exist_booleans.append(1)\n",
        "        else:\n",
        "            exist_booleans.append(0)\n",
        "            \n",
        "    return exist_booleans"
      ],
      "execution_count": null,
      "outputs": []
    },
    {
      "cell_type": "code",
      "metadata": {
        "colab": {
          "base_uri": "https://localhost:8080/"
        },
        "id": "9xJZFS3tNyJm",
        "outputId": "7c8286b0-90cd-4c71-bbe9-202fe5127d77"
      },
      "source": [
        "start_time = time.time()\n",
        "\n",
        "newspaper_vectors = data.map(lambda abc: create_newspaper_vector(abc[1]))\n",
        "newspaper_vectors = newspaper_vectors.collect()\n",
        "\n",
        "print(f'--- {time.time() - start_time} seconds ---')\n",
        "print(len(newspaper_vectors))"
      ],
      "execution_count": null,
      "outputs": [
        {
          "output_type": "stream",
          "text": [
            "--- 1.1261012554168701 seconds ---\n",
            "497\n"
            ],
          "name": "stdout"
        }
      ]
    },
    {
      "cell_type": "markdown",
      "metadata": {
        "id": "OW7eRndUlcWc"
      },
      "source": [
        "**Step 2: Minhashing**"
      ]
    },
    {
      "cell_type": "code",
      "metadata": {
        "id": "O02zAVHAJQU2"
      },
      "source": [
        "def create_permutation(number_shingles):\n",
        "    random_permutation_numbers = [i for i in range(1, number_shingles + 1)]\n",
        "    shuffle(random_permutation_numbers)\n",
        "    return random_permutation_numbers\n"
      ],
      "execution_count": null,
      "outputs": []
    },
    {
      "cell_type": "code",
      "metadata": {
        "id": "-CZSjilBQCr2",
        "colab": {
          "base_uri": "https://localhost:8080/"
        },
        "outputId": "c1bcba55-5a20-42f8-8b22-721248be0bef"
      },
      "source": [
        "start_time = time.time()\n",
        "\n",
        "number_permutation = 100\n",
        "number_shingles = len(shingles)\n",
        "\n",
        "rdd_create_permutation = sc.parallelize([x for x in range(0, number_permutation)])\n",
        "permutations = rdd_create_permutation.map(lambda abc: create_permutation(number_shingles))\n",
        "\n",
        "permutations = permutations.collect()\n",
        "\n",
        "\n",
        "print(f'--- {time.time() - start_time} seconds ---')\n",
        "print(len(permutations))"
      ],
      "execution_count": 24,
      "outputs": [
        {
          "output_type": "stream",
          "text": [
            "--- 1.1220216751098633 seconds ---\n",
            "100\n"
          ],
          "name": "stdout"
        }
      ]
    },
    {
      "cell_type": "code",
      "metadata": {
        "id": "H77gYyLSQp2q"
      },
      "source": [
        "def create_signature_vector(newspaper_vector):\n",
        "    signature_vector = list()\n",
        "    for permutation in permutations:\n",
        "        min_number = float('inf')\n",
        "        for index, exist_boolean in enumerate(newspaper_vector):\n",
        "            if exist_boolean:\n",
        "                if permutation[index] < min_number:\n",
        "                    min_number = permutation[index]\n",
        "        \n",
        "        signature_vector.append(min_number)\n",
        "            \n",
        "    return signature_vector"
      ],
      "execution_count": 25,
      "outputs": []
    },
    {
      "cell_type": "code",
      "metadata": {
        "id": "mtHXFqZYTqjY",
        "colab": {
          "base_uri": "https://localhost:8080/"
        },
        "outputId": "3fbfceef-ae98-4717-bff3-a79deb13cee5"
      },
      "source": [
        "start_time = time.time()\n",
        "\n",
        "rdd_newspaper_vectors = sc.parallelize(newspaper_vectors)\n",
        "\n",
        "signature_vectors = rdd_newspaper_vectors.map(lambda x: create_signature_vector(x))\n",
        "signature_vectors = signature_vectors.collect()\n",
        "\n",
        "print(f'--- {time.time() - start_time} seconds ---')\n",
        "print(len(signature_vectors))"
      ],
      "execution_count": 26,
      "outputs": [
        {
          "output_type": "stream",
          "text": [
            "[[3, 13, 21, 10, 9, 36, 12, 8, 20, 24, 37, 11, 4, 20, 79, 4, 4, 10, 27, 5, 13, 9, 36, 4, 17, 2, 6, 50, 49, 20, 1, 31, 8, 18, 45, 21, 1, 13, 14, 33, 3, 2, 6, 1, 18, 28, 96, 43, 7, 44, 3, 21, 5, 9, 40, 55, 8, 17, 17, 8, 2, 7, 4, 29, 97, 11, 4, 56, 7, 22, 5, 13, 25, 14, 21, 4, 38, 54, 3, 74, 13, 16, 20, 11, 3, 28, 18, 9, 23, 14, 10, 26, 12, 59, 13, 39, 92, 30, 133, 6], [17, 17, 22, 34, 1, 3, 18, 4, 34, 28, 27, 6, 13, 44, 23, 31, 28, 22, 21, 28, 11, 2, 18, 14, 10, 20, 3, 3, 11, 1, 18, 6, 50, 1, 5, 2, 15, 16, 41, 6, 2, 15, 28, 18, 11, 5, 12, 2, 38, 24, 17, 2, 10, 16, 6, 7, 32, 15, 40, 3, 22, 39, 34, 27, 22, 3, 36, 21, 55, 21, 46, 30, 5, 4, 20, 21, 51, 1, 5, 23, 23, 31, 11, 23, 15, 1, 25, 15, 1, 22, 11, 24, 5, 16, 37, 22, 5, 12, 7, 10], [114, 8, 27, 6, 16, 1, 2, 2, 4, 41, 18, 64, 75, 13, 3, 7, 15, 5, 14, 27, 4, 3, 17, 72, 51, 12, 15, 34, 13, 6, 27, 26, 33, 4, 38, 12, 39, 6, 18, 2, 44, 4, 43, 22, 15, 41, 8, 25, 42, 5, 26, 25, 80, 32, 11, 24, 59, 26, 6, 59, 8, 71, 51, 44, 10, 13, 5, 20, 23, 16, 9, 81, 13, 3, 8, 5, 74, 26, 11, 12, 12, 5, 25, 5, 6, 10, 7, 1, 13, 72, 3, 2, 4, 13, 27, 36, 44, 10, 43, 2], [84, 45, 35, 45, 62, 9, 17, 118, 28, 25, 201, 72, 15, 28, 42, 14, 6, 102, 69, 31, 134, 25, 15, 111, 131, 127, 62, 63, 34, 216, 43, 32, 94, 177, 48, 26, 23, 18, 17, 4, 32, 25, 3, 39, 113, 52, 60, 75, 189, 7, 41, 182, 6, 59, 29, 98, 11, 107, 24, 19, 146, 24, 14, 164, 1, 5, 81, 42, 192, 26, 79, 104, 7, 49, 43, 98, 5, 10, 2, 20, 70, 30, 4, 1, 18, 22, 23, 90, 51, 88, 6, 18, 35, 197, 6, 7, 35, 26, 16, 49], [106, 79, 18, 146, 30, 49, 46, 25, 35, 2, 90, 44, 212, 41, 160, 43, 31, 252, 145, 30, 74, 16, 37, 43, 47, 180, 103, 28, 6, 42, 30, 28, 129, 57, 32, 85, 11, 205, 10, 43, 90, 1, 88, 30, 8, 55, 40, 19, 66, 28, 125, 15, 12, 35, 10, 77, 23, 93, 88, 49, 64, 2, 98, 11, 1, 43, 3, 64, 2, 219, 6, 6, 161, 12, 305, 50, 5, 35, 8, 211, 35, 15, 68, 76, 102, 155, 28, 58, 22, 20, 15, 6, 14, 91, 9, 32, 6, 29, 53, 23], [7, 2, 13, 13, 5, 21, 7, 15, 12, 13, 4, 15, 3, 3, 30, 16, 2, 15, 22, 2, 2, 5, 16, 3, 2, 6, 18, 6, 15, 7, 5, 1, 13, 22, 27, 14, 2, 34, 6, 14, 4, 11, 28, 3, 5, 2, 11, 12, 5, 11, 8, 8, 4, 19, 14, 2, 3, 6, 9, 10, 1, 1, 1, 9, 4, 1, 7, 16, 9, 6, 26, 10, 6, 1, 5, 9, 8, 5, 23, 1, 6, 1, 1, 10, 17, 12, 5, 18, 19, 1, 1, 10, 1, 7, 2, 8, 25, 9, 13, 1], [26, 42, 50, 31, 54, 95, 17, 75, 29, 102, 90, 53, 11, 174, 13, 13, 53, 43, 222, 111, 261, 14, 42, 15, 47, 49, 47, 14, 52, 148, 60, 9, 25, 42, 179, 118, 5, 107, 2, 202, 60, 90, 26, 47, 28, 78, 90, 126, 83, 71, 125, 1, 15, 15, 53, 52, 17, 12, 16, 90, 51, 13, 103, 11, 242, 214, 3, 9, 79, 7, 97, 8, 7, 10, 74, 24, 5, 39, 48, 7, 70, 7, 70, 19, 91, 8, 156, 19, 28, 20, 38, 12, 14, 6, 24, 96, 6, 77, 30, 235], [6, 30, 4, 4, 3, 18, 1, 12, 3, 5, 23, 9, 8, 2, 6, 10, 5, 2, 19, 4, 7, 10, 5, 2, 4, 26, 2, 1, 1, 26, 25, 27, 19, 17, 13, 6, 8, 27, 5, 7, 15, 12, 22, 5, 6, 23, 24, 3, 1, 8, 5, 7, 20, 1, 42, 6, 2, 8, 8, 16, 3, 31, 2, 8, 8, 27, 1, 18, 13, 12, 3, 1, 14, 2, 35, 1, 6, 8, 7, 4, 3, 3, 12, 26, 31, 15, 2, 1, 3, 2, 21, 20, 3, 34, 17, 1, 8, 3, 4, 21], [27, 89, 24, 25, 13, 40, 118, 18, 143, 1, 44, 5, 55, 6, 2, 28, 33, 59, 30, 91, 28, 85, 75, 37, 26, 153, 110, 120, 19, 33, 83, 50, 5, 100, 13, 50, 81, 54, 94, 23, 97, 44, 148, 4, 19, 68, 45, 4, 20, 2, 66, 48, 93, 2, 33, 50, 21, 29, 1, 30, 40, 105, 13, 40, 3, 38, 25, 25, 213, 25, 8, 27, 54, 17, 67, 117, 113, 57, 58, 17, 26, 37, 21, 39, 40, 86, 19, 37, 252, 148, 133, 8, 206, 149, 59, 84, 68, 38, 96, 56], [12, 1, 14, 11, 15, 4, 16, 11, 17, 10, 5, 4, 2, 10, 19, 20, 7, 1, 42, 7, 3, 8, 1, 39, 16, 21, 4, 38, 2, 3, 4, 4, 9, 2, 1, 1, 6, 12, 31, 36, 1, 36, 13, 2, 7, 18, 4, 24, 23, 8, 14, 3, 3, 5, 1, 12, 1, 4, 48, 2, 6, 4, 24, 2, 6, 2, 6, 14, 40, 1, 25, 3, 9, 44, 10, 2, 20, 7, 13, 9, 5, 1, 7, 3, 5, 14, 13, 2, 15, 17, 39, 13, 10, 11, 1, 5, 10, 8, 2, 1], [29, 29, 9, 11, 2, 11, 60, 19, 7, 35, 9, 2, 37, 35, 18, 35, 3, 3, 10, 67, 10, 64, 6, 57, 1, 17, 5, 4, 5, 25, 2, 15, 16, 11, 4, 8, 22, 37, 4, 26, 12, 6, 2, 15, 1, 12, 6, 24, 115, 12, 18, 9, 11, 22, 39, 12, 56, 5, 32, 4, 23, 30, 3, 24, 35, 10, 106, 1, 15, 11, 36, 44, 2, 7, 19, 17, 14, 19, 10, 18, 26, 9, 13, 41, 10, 20, 17, 29, 5, 8, 23, 1, 23, 5, 4, 75, 2, 2, 1, 13], [160, 359, 228, 104, 37, 574, 154, 14, 31, 163, 230, 74, 68, 1, 635, 73, 218, 162, 234, 159, 294, 767, 31, 234, 29, 73, 333, 55, 256, 31, 66, 38, 455, 312, 18, 36, 118, 75, 50, 101, 184, 407, 66, 119, 17, 141, 647, 136, 55, 162, 96, 911, 2, 143, 525, 110, 119, 148, 330, 23, 4, 198, 83, 15, 63, 491, 171, 239, 73, 199, 60, 54, 8, 190, 143, 7, 11, 243, 81, 237, 641, 23, 39, 262, 128, 102, 90, 53, 180, 244, 44, 92, 229, 26, 554, 81, 57, 62, 17, 71], [2, 4, 8, 28, 6, 8, 20, 17, 75, 4, 11, 25, 7, 34, 7, 3, 2, 9, 57, 2, 3, 59, 24, 6, 45, 1, 23, 9, 42, 15, 8, 1, 1, 16, 3, 3, 24, 2, 3, 20, 5, 36, 8, 20, 20, 7, 19, 3, 4, 21, 1, 29, 1, 25, 2, 44, 12, 9, 4, 4, 16, 6, 11, 21, 14, 7, 10, 2, 1, 10, 19, 9, 9, 8, 14, 3, 3, 28, 18, 19, 29, 14, 23, 18, 1, 2, 30, 17, 19, 5, 1, 21, 11, 1, 8, 57, 19, 1, 27, 1], [8, 1, 2, 2, 4, 2, 15, 7, 5, 14, 2, 3, 1, 15, 43, 9, 1, 13, 1, 1, 8, 23, 7, 5, 31, 15, 9, 10, 9, 10, 3, 10, 4, 10, 7, 17, 13, 3, 1, 9, 8, 7, 10, 7, 4, 1, 3, 1, 6, 4, 2, 5, 13, 13, 7, 19, 15, 14, 5, 5, 12, 3, 6, 16, 5, 32, 16, 24, 12, 2, 14, 19, 1, 11, 4, 20, 1, 4, 12, 3, 1, 2, 8, 2, 28, 5, 1, 8, 10, 9, 18, 14, 17, 3, 33, 2, 12, 19, 22, 32], [36, 97, 63, 105, 49, 205, 3, 33, 33, 33, 70, 82, 31, 33, 54, 71, 26, 57, 123, 80, 35, 40, 9, 22, 23, 5, 56, 23, 23, 11, 39, 18, 63, 30, 9, 35, 10, 199, 29, 73, 59, 3, 18, 49, 53, 178, 5, 8, 50, 6, 7, 96, 125, 61, 60, 15, 42, 112, 25, 1, 129, 5, 27, 101, 51, 19, 128, 13, 28, 97, 22, 102, 32, 36, 7, 74, 64, 45, 57, 13, 21, 13, 14, 108, 30, 54, 69, 3, 12, 32, 4, 58, 16, 10, 60, 23, 1, 7, 44, 37], [15, 22, 23, 90, 27, 77, 19, 13, 11, 282, 51, 121, 26, 180, 267, 1, 24, 42, 203, 55, 82, 139, 63, 77, 5, 4, 34, 27, 40, 16, 85, 248, 3, 71, 15, 86, 73, 42, 151, 56, 89, 71, 1, 64, 3, 9, 161, 20, 24, 64, 87, 14, 174, 107, 28, 13, 5, 27, 129, 114, 95, 23, 167, 14, 186, 116, 104, 78, 52, 31, 53, 48, 19, 81, 282, 37, 44, 34, 232, 38, 94, 18, 83, 148, 16, 4, 85, 141, 20, 67, 78, 33, 53, 2, 54, 117, 43, 13, 78, 19], [4, 6, 102, 72, 23, 52, 5, 42, 2, 3, 38, 18, 46, 53, 11, 139, 75, 7, 6, 14, 1, 72, 11, 48, 15, 13, 48, 19, 25, 57, 41, 26, 48, 129, 135, 54, 12, 14, 54, 5, 55, 67, 45, 58, 23, 197, 30, 25, 3, 25, 45, 10, 8, 12, 38, 25, 28, 28, 11, 17, 49, 21, 41, 1, 69, 4, 31, 7, 5, 17, 15, 2, 57, 26, 2, 10, 14, 27, 36, 30, 155, 28, 9, 7, 13, 23, 14, 32, 8, 97, 5, 52, 9, 88, 48, 16, 78, 16, 6, 222], [135, 568, 88, 83, 70, 59, 54, 124, 260, 48, 45, 45, 268, 12, 34, 51, 63, 41, 9, 103, 5, 4, 226, 98, 14, 7, 225, 55, 29, 31, 65, 47, 17, 245, 2, 47, 56, 1, 59, 153, 84, 22, 92, 117, 17, 27, 157, 136, 55, 136, 11, 24, 118, 6, 15, 61, 4, 303, 74, 247, 283, 17, 217, 5, 295, 6, 79, 27, 73, 47, 42, 98, 68, 171, 12, 95, 99, 48, 101, 163, 148, 77, 39, 110, 131, 3, 3, 6, 96, 25, 2, 76, 176, 26, 58, 81, 29, 178, 17, 199], [343, 28, 49, 44, 37, 42, 38, 93, 67, 42, 3, 22, 51, 68, 38, 12, 39, 30, 23, 12, 63, 34, 27, 52, 102, 3, 1, 70, 8, 5, 102, 16, 66, 12, 16, 37, 58, 49, 15, 1, 76, 35, 15, 14, 66, 3, 16, 84, 29, 78, 77, 120, 7, 62, 20, 27, 183, 2, 42, 38, 38, 42, 71, 42, 16, 24, 24, 44, 98, 103, 10, 14, 10, 93, 55, 19, 43, 55, 39, 38, 10, 106, 65, 4, 8, 55, 10, 106, 46, 6, 58, 5, 13, 53, 18, 13, 9, 4, 50, 34], [14, 69, 39, 53, 44, 57, 11, 35, 6, 13, 48, 1, 9, 11, 25, 23, 19, 19, 2, 3, 25, 96, 32, 31, 32, 3, 35, 29, 12, 4, 11, 8, 127, 35, 43, 32, 101, 11, 77, 67, 54, 28, 19, 9, 9, 4, 9, 15, 2, 57, 65, 60, 51, 72, 4, 1, 136, 5, 7, 13, 11, 129, 29, 31, 72, 12, 11, 3, 57, 29, 28, 225, 20, 144, 22, 12, 31, 46, 37, 10, 7, 83, 54, 15, 23, 6, 45, 88, 38, 76, 46, 40, 8, 24, 14, 73, 42, 28, 5, 41], [23, 24, 1, 3, 34, 19, 26, 1, 44, 12, 7, 63, 34, 9, 106, 22, 79, 51, 25, 19, 17, 21, 28, 11, 68, 8, 20, 5, 50, 43, 9, 2, 14, 108, 70, 132, 14, 4, 11, 18, 33, 32, 4, 24, 2, 45, 2, 7, 8, 37, 16, 31, 10, 3, 34, 5, 41, 10, 15, 37, 5, 70, 76, 20, 2, 100, 2, 35, 3, 78, 7, 12, 11, 31, 1, 22, 9, 30, 4, 2, 18, 51, 3, 14, 27, 39, 32, 14, 16, 21, 30, 4, 66, 12, 81, 3, 4, 6, 33, 28], [11, 10, 15, 29, 12, 5, 4, 3, 104, 18, 1, 8, 6, 79, 48, 58, 16, 37, 4, 21, 27, 1, 4, 16, 7, 28, 22, 21, 7, 19, 54, 13, 11, 5, 13, 7, 21, 56, 13, 16, 56, 17, 30, 29, 36, 106, 43, 13, 36, 3, 20, 4, 14, 27, 141, 45, 13, 3, 20, 6, 39, 33, 8, 4, 37, 70, 26, 8, 25, 14, 11, 15, 26, 6, 9, 33, 30, 2, 1, 15, 14, 34, 47, 37, 2, 43, 48, 76, 4, 12, 31, 64, 37, 45, 21, 33, 7, 40, 9, 9], [429, 101, 66, 67, 322, 39, 137, 112, 683, 258, 161, 437, 218, 492, 179, 414, 14, 192, 546, 165, 9, 402, 199, 334, 43, 554, 65, 197, 150, 125, 1673, 1035, 15, 249, 73, 77, 413, 73, 27, 234, 159, 26, 90, 688, 115, 256, 619, 574, 290, 147, 433, 207, 83, 263, 1424, 902, 79, 298, 75, 267, 28, 437, 349, 627, 36, 246, 125, 1107, 710, 89, 1519, 339, 17, 571, 184, 6, 89, 148, 162, 888, 138, 81, 184, 38, 279, 65, 95, 448, 82, 366, 297, 371, 210, 44, 73, 132, 529, 106, 3, 550], [53, 39, 16, 21, 89, 10, 6, 76, 64, 6, 39, 33, 60, 4, 24, 19, 68, 32, 12, 6, 37, 6, 68, 1, 24, 29, 7, 13, 127, 94, 63, 121, 84, 19, 10, 90, 3, 15, 8, 8, 18, 5, 30, 51, 178, 86, 39, 278, 63, 22, 6, 108, 256, 4, 46, 97, 29, 16, 162, 6, 9, 55, 72, 33, 109, 18, 85, 12, 46, 62, 2, 46, 37, 28, 3, 45, 12, 180, 16, 78, 69, 11, 6, 37, 9, 105, 4, 4, 4, 30, 14, 61, 43, 8, 3, 86, 3, 68, 147, 7], [1, 5, 28, 14, 18, 26, 8, 10, 1, 8, 6, 79, 54, 8, 10, 5, 30, 17, 5, 57, 54, 33, 3, 7, 20, 43, 38, 8, 43, 162, 21, 23, 95, 103, 35, 33, 45, 10, 83, 87, 13, 50, 14, 11, 76, 75, 1, 10, 53, 16, 74, 44, 24, 86, 23, 66, 114, 42, 3, 126, 34, 22, 39, 68, 70, 104, 12, 4, 30, 4, 43, 28, 84, 24, 39, 84, 205, 121, 77, 70, 42, 20, 137, 36, 47, 7, 56, 35, 116, 13, 19, 11, 26, 18, 15, 9, 22, 64, 74, 25], [107, 385, 84, 58, 118, 148, 28, 601, 166, 298, 139, 49, 143, 349, 208, 173, 181, 161, 128, 261, 555, 669, 52, 132, 823, 113, 814, 578, 398, 759, 197, 20, 2, 792, 364, 619, 450, 36, 272, 79, 784, 202, 132, 350, 312, 15, 47, 590, 89, 496, 643, 140, 170, 546, 400, 29, 402, 365, 122, 258, 512, 14, 18, 163, 114, 226, 127, 192, 34, 112, 245, 381, 223, 107, 241, 166, 381, 300, 9, 229, 1083, 344, 532, 34, 461, 134, 493, 83, 2, 771, 90, 253, 107, 21, 20, 421, 414, 25, 105, 279], [18, 37, 3, 1, 10, 7, 9, 27, 30, 7, 10, 35, 12, 17, 1, 2, 9, 6, 8, 8, 30, 18, 14, 12, 22, 18, 8, 26, 3, 2, 12, 5, 73, 3, 14, 13, 17, 19, 21, 3, 6, 8, 5, 66, 49, 12, 21, 21, 15, 1, 49, 41, 23, 2, 5, 14, 14, 1, 37, 24, 10, 20, 15, 3, 15, 30, 15, 5, 4, 23, 1, 5, 35, 9, 13, 8, 17, 3, 14, 8, 22, 43, 32, 24, 20, 13, 16, 7, 18, 4, 17, 9, 2, 9, 5, 15, 14, 24, 10, 12]]\n",
            "--- 53.7591392993927 seconds ---\n",
            "497\n"
          ],
          "name": "stdout"
        }
      ]
    },
    {
      "cell_type": "markdown",
      "metadata": {
        "id": "p42qRff-XtYp"
      },
      "source": [
        "**Step 3: Locality Sensitive Hashing**"
      ]
    },
    {
      "cell_type": "code",
      "metadata": {
        "id": "XgesBAULUm6U",
        "colab": {
          "base_uri": "https://localhost:8080/"
        },
        "outputId": "ac3be2c2-43c7-418d-c5e4-ce8335d53668"
      },
      "source": [
        "number_of_band = 20\n",
        "number_of_row = int(len(permutations) / number_of_band)\n",
        "print(number_of_band, number_of_row)"
      ],
      "execution_count": 27,
      "outputs": [
        {
          "output_type": "stream",
          "text": [
            "20 5\n"
          ],
          "name": "stdout"
        }
      ]
    },
    {
      "cell_type": "code",
      "metadata": {
        "id": "lISzEUrdUm-e",
        "colab": {
          "base_uri": "https://localhost:8080/"
        },
        "outputId": "9fde0265-f035-4372-8b18-67792a397ee6"
      },
      "source": [
        "start_time = time.time()\n",
        "\n",
        "buckets = dict()\n",
        "\n",
        "for index_newspaper, signature_vector in enumerate(signature_vectors):\n",
        "    previous_row = 0\n",
        "    for _ in range(number_of_band):\n",
        "        key_chars = list()\n",
        "        for index in range(previous_row, previous_row + number_of_row):\n",
        "            key_chars.append(signature_vector[index])\n",
        "        previous_row += number_of_row\n",
        "\n",
        "        key = '_'.join(map(str, key_chars))\n",
        "\n",
        "        if key not in buckets:\n",
        "            buckets[key] = [index_newspaper]\n",
        "        else:\n",
        "            buckets[key].append(index_newspaper)\n",
        "\n",
        "print(f'--- {time.time() - start_time} seconds ---')\n",
        "print(buckets)\n",
        "print(len(buckets))"
      ],
      "execution_count": 47,
      "outputs": [
        {
          "output_type": "stream",
          "text": [
            "--- 0.0031304359436035156 seconds ---\n",
            "{'3_13_21_10_9': [0], '36_12_8_20_24': [0], '37_11_4_20_79': [0], '4_4_10_27_5': [0], '13_9_36_4_17': [0], '2_6_50_49_20': [0], '1_31_8_18_45': [0], '21_1_13_14_33': [0], '3_2_6_1_18': [0], '28_96_43_7_44': [0], '3_21_5_9_40': [0], '55_8_17_17_8': [0], '2_7_4_29_97': [0], '11_4_56_7_22': [0], '5_13_25_14_21': [0], '4_38_54_3_74': [0], '13_16_20_11_3': [0], '28_18_9_23_14': [0], '10_26_12_59_13': [0], '39_92_30_133_6': [0], '17_17_22_34_1': [1], '3_18_4_34_28': [1], '27_6_13_44_23': [1], '31_28_22_21_28': [1], '11_2_18_14_10': [1], '20_3_3_11_1': [1], '18_6_50_1_5': [1], '2_15_16_41_6': [1], '2_15_28_18_11': [1], '5_12_2_38_24': [1], '17_2_10_16_6': [1], '7_32_15_40_3': [1], '22_39_34_27_22': [1], '3_36_21_55_21': [1], '46_30_5_4_20': [1], '21_51_1_5_23': [1], '23_31_11_23_15': [1], '1_25_15_1_22': [1], '11_24_5_16_37': [1], '22_5_12_7_10': [1], '114_8_27_6_16': [2], '1_2_2_4_41': [2], '18_64_75_13_3': [2], '7_15_5_14_27': [2], '4_3_17_72_51': [2], '12_15_34_13_6': [2], '27_26_33_4_38': [2], '12_39_6_18_2': [2], '44_4_43_22_15': [2], '41_8_25_42_5': [2], '26_25_80_32_11': [2], '24_59_26_6_59': [2], '8_71_51_44_10': [2], '13_5_20_23_16': [2], '9_81_13_3_8': [2], '5_74_26_11_12': [2], '12_5_25_5_6': [2], '10_7_1_13_72': [2], '3_2_4_13_27': [2], '36_44_10_43_2': [2], '84_45_35_45_62': [3], '9_17_118_28_25': [3], '201_72_15_28_42': [3], '14_6_102_69_31': [3], '134_25_15_111_131': [3], '127_62_63_34_216': [3], '43_32_94_177_48': [3], '26_23_18_17_4': [3], '32_25_3_39_113': [3], '52_60_75_189_7': [3], '41_182_6_59_29': [3], '98_11_107_24_19': [3], '146_24_14_164_1': [3], '5_81_42_192_26': [3], '79_104_7_49_43': [3], '98_5_10_2_20': [3], '70_30_4_1_18': [3], '22_23_90_51_88': [3], '6_18_35_197_6': [3], '7_35_26_16_49': [3], '106_79_18_146_30': [4], '49_46_25_35_2': [4], '90_44_212_41_160': [4], '43_31_252_145_30': [4], '74_16_37_43_47': [4], '180_103_28_6_42': [4], '30_28_129_57_32': [4], '85_11_205_10_43': [4], '90_1_88_30_8': [4], '55_40_19_66_28': [4], '125_15_12_35_10': [4], '77_23_93_88_49': [4], '64_2_98_11_1': [4], '43_3_64_2_219': [4], '6_6_161_12_305': [4], '50_5_35_8_211': [4], '35_15_68_76_102': [4], '155_28_58_22_20': [4], '15_6_14_91_9': [4], '32_6_29_53_23': [4], '7_2_13_13_5': [5], '21_7_15_12_13': [5], '4_15_3_3_30': [5], '16_2_15_22_2': [5], '2_5_16_3_2': [5], '6_18_6_15_7': [5], '5_1_13_22_27': [5], '14_2_34_6_14': [5], '4_11_28_3_5': [5], '2_11_12_5_11': [5], '8_8_4_19_14': [5], '2_3_6_9_10': [5], '1_1_1_9_4': [5], '1_7_16_9_6': [5], '26_10_6_1_5': [5], '9_8_5_23_1': [5], '6_1_1_10_17': [5], '12_5_18_19_1': [5], '1_10_1_7_2': [5], '8_25_9_13_1': [5], '26_42_50_31_54': [6], '95_17_75_29_102': [6], '90_53_11_174_13': [6], '13_53_43_222_111': [6], '261_14_42_15_47': [6], '49_47_14_52_148': [6], '60_9_25_42_179': [6], '118_5_107_2_202': [6], '60_90_26_47_28': [6], '78_90_126_83_71': [6], '125_1_15_15_53': [6], '52_17_12_16_90': [6], '51_13_103_11_242': [6], '214_3_9_79_7': [6], '97_8_7_10_74': [6], '24_5_39_48_7': [6], '70_7_70_19_91': [6], '8_156_19_28_20': [6], '38_12_14_6_24': [6], '96_6_77_30_235': [6], '6_30_4_4_3': [7], '18_1_12_3_5': [7], '23_9_8_2_6': [7], '10_5_2_19_4': [7], '7_10_5_2_4': [7], '26_2_1_1_26': [7], '25_27_19_17_13': [7], '6_8_27_5_7': [7], '15_12_22_5_6': [7], '23_24_3_1_8': [7], '5_7_20_1_42': [7], '6_2_8_8_16': [7], '3_31_2_8_8': [7], '27_1_18_13_12': [7], '3_1_14_2_35': [7], '1_6_8_7_4': [7], '3_3_12_26_31': [7], '15_2_1_3_2': [7], '21_20_3_34_17': [7], '1_8_3_4_21': [7], '27_89_24_25_13': [8], '40_118_18_143_1': [8], '44_5_55_6_2': [8], '28_33_59_30_91': [8], '28_85_75_37_26': [8], '153_110_120_19_33': [8], '83_50_5_100_13': [8], '50_81_54_94_23': [8], '97_44_148_4_19': [8], '68_45_4_20_2': [8], '66_48_93_2_33': [8], '50_21_29_1_30': [8], '40_105_13_40_3': [8], '38_25_25_213_25': [8], '8_27_54_17_67': [8], '117_113_57_58_17': [8], '26_37_21_39_40': [8], '86_19_37_252_148': [8], '133_8_206_149_59': [8], '84_68_38_96_56': [8], '12_1_14_11_15': [9], '4_16_11_17_10': [9], '5_4_2_10_19': [9], '20_7_1_42_7': [9], '3_8_1_39_16': [9], '21_4_38_2_3': [9], '4_4_9_2_1': [9], '1_6_12_31_36': [9], '1_36_13_2_7': [9], '18_4_24_23_8': [9], '14_3_3_5_1': [9], '12_1_4_48_2': [9], '6_4_24_2_6': [9], '2_6_14_40_1': [9], '25_3_9_44_10': [9], '2_20_7_13_9': [9], '5_1_7_3_5': [9], '14_13_2_15_17': [9], '39_13_10_11_1': [9], '5_10_8_2_1': [9], '29_29_9_11_2': [10], '11_60_19_7_35': [10], '9_2_37_35_18': [10], '35_3_3_10_67': [10], '10_64_6_57_1': [10], '17_5_4_5_25': [10], '2_15_16_11_4': [10], '8_22_37_4_26': [10], '12_6_2_15_1': [10], '12_6_24_115_12': [10], '18_9_11_22_39': [10], '12_56_5_32_4': [10], '23_30_3_24_35': [10], '10_106_1_15_11': [10], '36_44_2_7_19': [10], '17_14_19_10_18': [10], '26_9_13_41_10': [10], '20_17_29_5_8': [10], '23_1_23_5_4': [10], '75_2_2_1_13': [10], '160_359_228_104_37': [11], '574_154_14_31_163': [11], '230_74_68_1_635': [11], '73_218_162_234_159': [11], '294_767_31_234_29': [11], '73_333_55_256_31': [11], '66_38_455_312_18': [11], '36_118_75_50_101': [11], '184_407_66_119_17': [11], '141_647_136_55_162': [11], '96_911_2_143_525': [11], '110_119_148_330_23': [11], '4_198_83_15_63': [11], '491_171_239_73_199': [11], '60_54_8_190_143': [11], '7_11_243_81_237': [11], '641_23_39_262_128': [11], '102_90_53_180_244': [11], '44_92_229_26_554': [11], '81_57_62_17_71': [11], '2_4_8_28_6': [12], '8_20_17_75_4': [12], '11_25_7_34_7': [12], '3_2_9_57_2': [12], '3_59_24_6_45': [12], '1_23_9_42_15': [12], '8_1_1_16_3': [12], '3_24_2_3_20': [12], '5_36_8_20_20': [12], '7_19_3_4_21': [12], '1_29_1_25_2': [12], '44_12_9_4_4': [12], '16_6_11_21_14': [12], '7_10_2_1_10': [12], '19_9_9_8_14': [12], '3_3_28_18_19': [12], '29_14_23_18_1': [12], '2_30_17_19_5': [12], '1_21_11_1_8': [12], '57_19_1_27_1': [12], '8_1_2_2_4': [13], '2_15_7_5_14': [13], '2_3_1_15_43': [13], '9_1_13_1_1': [13], '8_23_7_5_31': [13], '15_9_10_9_10': [13], '3_10_4_10_7': [13], '17_13_3_1_9': [13], '8_7_10_7_4': [13], '1_3_1_6_4': [13], '2_5_13_13_7': [13], '19_15_14_5_5': [13], '12_3_6_16_5': [13], '32_16_24_12_2': [13], '14_19_1_11_4': [13], '20_1_4_12_3': [13], '1_2_8_2_28': [13], '5_1_8_10_9': [13], '18_14_17_3_33': [13], '2_12_19_22_32': [13], '36_97_63_105_49': [14], '205_3_33_33_33': [14], '70_82_31_33_54': [14], '71_26_57_123_80': [14], '35_40_9_22_23': [14], '5_56_23_23_11': [14], '39_18_63_30_9': [14], '35_10_199_29_73': [14], '59_3_18_49_53': [14], '178_5_8_50_6': [14], '7_96_125_61_60': [14], '15_42_112_25_1': [14], '129_5_27_101_51': [14], '19_128_13_28_97': [14], '22_102_32_36_7': [14], '74_64_45_57_13': [14], '21_13_14_108_30': [14], '54_69_3_12_32': [14], '4_58_16_10_60': [14], '23_1_7_44_37': [14], '15_22_23_90_27': [15], '77_19_13_11_282': [15], '51_121_26_180_267': [15], '1_24_42_203_55': [15], '82_139_63_77_5': [15], '4_34_27_40_16': [15], '85_248_3_71_15': [15], '86_73_42_151_56': [15], '89_71_1_64_3': [15], '9_161_20_24_64': [15], '87_14_174_107_28': [15], '13_5_27_129_114': [15], '95_23_167_14_186': [15], '116_104_78_52_31': [15], '53_48_19_81_282': [15], '37_44_34_232_38': [15], '94_18_83_148_16': [15], '4_85_141_20_67': [15], '78_33_53_2_54': [15], '117_43_13_78_19': [15], '4_6_102_72_23': [16], '52_5_42_2_3': [16], '38_18_46_53_11': [16], '139_75_7_6_14': [16], '1_72_11_48_15': [16], '13_48_19_25_57': [16], '41_26_48_129_135': [16], '54_12_14_54_5': [16], '55_67_45_58_23': [16], '197_30_25_3_25': [16], '45_10_8_12_38': [16], '25_28_28_11_17': [16], '49_21_41_1_69': [16], '4_31_7_5_17': [16], '15_2_57_26_2': [16], '10_14_27_36_30': [16], '155_28_9_7_13': [16], '23_14_32_8_97': [16], '5_52_9_88_48': [16], '16_78_16_6_222': [16], '135_568_88_83_70': [17], '59_54_124_260_48': [17], '45_45_268_12_34': [17], '51_63_41_9_103': [17], '5_4_226_98_14': [17], '7_225_55_29_31': [17], '65_47_17_245_2': [17], '47_56_1_59_153': [17], '84_22_92_117_17': [17], '27_157_136_55_136': [17], '11_24_118_6_15': [17], '61_4_303_74_247': [17], '283_17_217_5_295': [17], '6_79_27_73_47': [17], '42_98_68_171_12': [17], '95_99_48_101_163': [17], '148_77_39_110_131': [17], '3_3_6_96_25': [17], '2_76_176_26_58': [17], '81_29_178_17_199': [17], '343_28_49_44_37': [18], '42_38_93_67_42': [18], '3_22_51_68_38': [18], '12_39_30_23_12': [18], '63_34_27_52_102': [18], '3_1_70_8_5': [18], '102_16_66_12_16': [18], '37_58_49_15_1': [18], '76_35_15_14_66': [18], '3_16_84_29_78': [18], '77_120_7_62_20': [18], '27_183_2_42_38': [18], '38_42_71_42_16': [18], '24_24_44_98_103': [18], '10_14_10_93_55': [18], '19_43_55_39_38': [18], '10_106_65_4_8': [18], '55_10_106_46_6': [18], '58_5_13_53_18': [18], '13_9_4_50_34': [18], '14_69_39_53_44': [19], '57_11_35_6_13': [19], '48_1_9_11_25': [19], '23_19_19_2_3': [19], '25_96_32_31_32': [19], '3_35_29_12_4': [19], '11_8_127_35_43': [19], '32_101_11_77_67': [19], '54_28_19_9_9': [19], '4_9_15_2_57': [19], '65_60_51_72_4': [19], '1_136_5_7_13': [19], '11_129_29_31_72': [19], '12_11_3_57_29': [19], '28_225_20_144_22': [19], '12_31_46_37_10': [19], '7_83_54_15_23': [19], '6_45_88_38_76': [19], '46_40_8_24_14': [19], '73_42_28_5_41': [19], '23_24_1_3_34': [20], '19_26_1_44_12': [20], '7_63_34_9_106': [20], '22_79_51_25_19': [20], '17_21_28_11_68': [20], '8_20_5_50_43': [20], '9_2_14_108_70': [20], '132_14_4_11_18': [20], '33_32_4_24_2': [20], '45_2_7_8_37': [20], '16_31_10_3_34': [20], '5_41_10_15_37': [20], '5_70_76_20_2': [20], '100_2_35_3_78': [20], '7_12_11_31_1': [20], '22_9_30_4_2': [20], '18_51_3_14_27': [20], '39_32_14_16_21': [20], '30_4_66_12_81': [20], '3_4_6_33_28': [20], '11_10_15_29_12': [21], '5_4_3_104_18': [21], '1_8_6_79_48': [21], '58_16_37_4_21': [21], '27_1_4_16_7': [21], '28_22_21_7_19': [21], '54_13_11_5_13': [21], '7_21_56_13_16': [21], '56_17_30_29_36': [21], '106_43_13_36_3': [21], '20_4_14_27_141': [21], '45_13_3_20_6': [21], '39_33_8_4_37': [21], '70_26_8_25_14': [21], '11_15_26_6_9': [21], '33_30_2_1_15': [21], '14_34_47_37_2': [21], '43_48_76_4_12': [21], '31_64_37_45_21': [21], '33_7_40_9_9': [21], '429_101_66_67_322': [22], '39_137_112_683_258': [22], '161_437_218_492_179': [22], '414_14_192_546_165': [22], '9_402_199_334_43': [22], '554_65_197_150_125': [22], '1673_1035_15_249_73': [22], '77_413_73_27_234': [22], '159_26_90_688_115': [22], '256_619_574_290_147': [22], '433_207_83_263_1424': [22], '902_79_298_75_267': [22], '28_437_349_627_36': [22], '246_125_1107_710_89': [22], '1519_339_17_571_184': [22], '6_89_148_162_888': [22], '138_81_184_38_279': [22], '65_95_448_82_366': [22], '297_371_210_44_73': [22], '132_529_106_3_550': [22], '53_39_16_21_89': [23], '10_6_76_64_6': [23], '39_33_60_4_24': [23], '19_68_32_12_6': [23], '37_6_68_1_24': [23], '29_7_13_127_94': [23], '63_121_84_19_10': [23], '90_3_15_8_8': [23], '18_5_30_51_178': [23], '86_39_278_63_22': [23], '6_108_256_4_46': [23], '97_29_16_162_6': [23], '9_55_72_33_109': [23], '18_85_12_46_62': [23], '2_46_37_28_3': [23], '45_12_180_16_78': [23], '69_11_6_37_9': [23], '105_4_4_4_30': [23], '14_61_43_8_3': [23], '86_3_68_147_7': [23], '1_5_28_14_18': [24], '26_8_10_1_8': [24], '6_79_54_8_10': [24], '5_30_17_5_57': [24], '54_33_3_7_20': [24], '43_38_8_43_162': [24], '21_23_95_103_35': [24], '33_45_10_83_87': [24], '13_50_14_11_76': [24], '75_1_10_53_16': [24], '74_44_24_86_23': [24], '66_114_42_3_126': [24], '34_22_39_68_70': [24], '104_12_4_30_4': [24], '43_28_84_24_39': [24], '84_205_121_77_70': [24], '42_20_137_36_47': [24], '7_56_35_116_13': [24], '19_11_26_18_15': [24], '9_22_64_74_25': [24], '107_385_84_58_118': [25], '148_28_601_166_298': [25], '139_49_143_349_208': [25], '173_181_161_128_261': [25], '555_669_52_132_823': [25], '113_814_578_398_759': [25], '197_20_2_792_364': [25], '619_450_36_272_79': [25], '784_202_132_350_312': [25], '15_47_590_89_496': [25], '643_140_170_546_400': [25], '29_402_365_122_258': [25], '512_14_18_163_114': [25], '226_127_192_34_112': [25], '245_381_223_107_241': [25], '166_381_300_9_229': [25], '1083_344_532_34_461': [25], '134_493_83_2_771': [25], '90_253_107_21_20': [25], '421_414_25_105_279': [25], '18_37_3_1_10': [26], '7_9_27_30_7': [26], '10_35_12_17_1': [26], '2_9_6_8_8': [26], '30_18_14_12_22': [26], '18_8_26_3_2': [26], '12_5_73_3_14': [26], '13_17_19_21_3': [26], '6_8_5_66_49': [26], '12_21_21_15_1': [26], '49_41_23_2_5': [26], '14_14_1_37_24': [26], '10_20_15_3_15': [26], '30_15_5_4_23': [26], '1_5_35_9_13': [26], '8_17_3_14_8': [26], '22_43_32_24_20': [26], '13_16_7_18_4': [26], '17_9_2_9_5': [26], '15_14_24_10_12': [26]}\n",
            "540\n"
          ],
          "name": "stdout"
        }
      ]
    },
    {
      "cell_type": "code",
      "metadata": {
        "id": "O1GvACuFjrSo"
      },
      "source": [
        "def create_bucket(signature_vector):\n",
        "    buckets = dict()\n",
        "    previous_row = 0\n",
        "    for _ in range(number_of_band):\n",
        "        key_chars = list()\n",
        "        for index in range(previous_row, previous_row + number_of_row):\n",
        "            key_chars.append(signature_vector[index])\n",
        "        previous_row += number_of_row\n",
        "\n",
        "        key = '_'.join(map(str, key_chars))\n",
        "\n",
        "        if key not in buckets:\n",
        "            buckets[key] = [index_newspaper]\n",
        "        else:\n",
        "            buckets[key].append(index_newspaper)\n",
        "      \n",
        "    return buckets\n"
      ],
      "execution_count": 31,
      "outputs": []
    },
    {
      "cell_type": "code",
      "metadata": {
        "id": "1pTu35ohV-xO",
        "colab": {
          "base_uri": "https://localhost:8080/"
        },
        "outputId": "78b76174-0fd6-4bd3-ef63-7181635eb75b"
      },
      "source": [
        "start_time = time.time()\n",
        "\n",
        "rdd_signature_vectors = sc.parallelize(signature_vectors)\n",
        "\n",
        "dict_buckets = rdd_signature_vectors.map(lambda x: create_bucket(x))\n",
        "dict_buckets = dict_buckets.collect()\n",
        "print(dict_buckets)\n",
        "\n",
        "buckets = dict()\n",
        "for bucket in dict_buckets:\n",
        "  buckets.update(bucket)\n",
        "\n",
        "print(f'--- {time.time() - start_time} seconds ---')\n",
        "print(len(buckets))"
      ],
      "execution_count": 46,
      "outputs": [
        {
          "output_type": "stream",
          "text": [
            "[{'3_13_21_10_9': [5], '36_12_8_20_24': [5], '37_11_4_20_79': [5], '4_4_10_27_5': [5], '13_9_36_4_17': [5], '2_6_50_49_20': [5], '1_31_8_18_45': [5], '21_1_13_14_33': [5], '3_2_6_1_18': [5], '28_96_43_7_44': [5], '3_21_5_9_40': [5], '55_8_17_17_8': [5], '2_7_4_29_97': [5], '11_4_56_7_22': [5], '5_13_25_14_21': [5], '4_38_54_3_74': [5], '13_16_20_11_3': [5], '28_18_9_23_14': [5], '10_26_12_59_13': [5], '39_92_30_133_6': [5]}, {'17_17_22_34_1': [5], '3_18_4_34_28': [5], '27_6_13_44_23': [5], '31_28_22_21_28': [5], '11_2_18_14_10': [5], '20_3_3_11_1': [5], '18_6_50_1_5': [5], '2_15_16_41_6': [5], '2_15_28_18_11': [5], '5_12_2_38_24': [5], '17_2_10_16_6': [5], '7_32_15_40_3': [5], '22_39_34_27_22': [5], '3_36_21_55_21': [5], '46_30_5_4_20': [5], '21_51_1_5_23': [5], '23_31_11_23_15': [5], '1_25_15_1_22': [5], '11_24_5_16_37': [5], '22_5_12_7_10': [5]}, {'114_8_27_6_16': [5], '1_2_2_4_41': [5], '18_64_75_13_3': [5], '7_15_5_14_27': [5], '4_3_17_72_51': [5], '12_15_34_13_6': [5], '27_26_33_4_38': [5], '12_39_6_18_2': [5], '44_4_43_22_15': [5], '41_8_25_42_5': [5], '26_25_80_32_11': [5], '24_59_26_6_59': [5], '8_71_51_44_10': [5], '13_5_20_23_16': [5], '9_81_13_3_8': [5], '5_74_26_11_12': [5], '12_5_25_5_6': [5], '10_7_1_13_72': [5], '3_2_4_13_27': [5], '36_44_10_43_2': [5]}, {'84_45_35_45_62': [5], '9_17_118_28_25': [5], '201_72_15_28_42': [5], '14_6_102_69_31': [5], '134_25_15_111_131': [5], '127_62_63_34_216': [5], '43_32_94_177_48': [5], '26_23_18_17_4': [5], '32_25_3_39_113': [5], '52_60_75_189_7': [5], '41_182_6_59_29': [5], '98_11_107_24_19': [5], '146_24_14_164_1': [5], '5_81_42_192_26': [5], '79_104_7_49_43': [5], '98_5_10_2_20': [5], '70_30_4_1_18': [5], '22_23_90_51_88': [5], '6_18_35_197_6': [5], '7_35_26_16_49': [5]}, {'106_79_18_146_30': [5], '49_46_25_35_2': [5], '90_44_212_41_160': [5], '43_31_252_145_30': [5], '74_16_37_43_47': [5], '180_103_28_6_42': [5], '30_28_129_57_32': [5], '85_11_205_10_43': [5], '90_1_88_30_8': [5], '55_40_19_66_28': [5], '125_15_12_35_10': [5], '77_23_93_88_49': [5], '64_2_98_11_1': [5], '43_3_64_2_219': [5], '6_6_161_12_305': [5], '50_5_35_8_211': [5], '35_15_68_76_102': [5], '155_28_58_22_20': [5], '15_6_14_91_9': [5], '32_6_29_53_23': [5]}, {'7_2_13_13_5': [5], '21_7_15_12_13': [5], '4_15_3_3_30': [5], '16_2_15_22_2': [5], '2_5_16_3_2': [5], '6_18_6_15_7': [5], '5_1_13_22_27': [5], '14_2_34_6_14': [5], '4_11_28_3_5': [5], '2_11_12_5_11': [5], '8_8_4_19_14': [5], '2_3_6_9_10': [5], '1_1_1_9_4': [5], '1_7_16_9_6': [5], '26_10_6_1_5': [5], '9_8_5_23_1': [5], '6_1_1_10_17': [5], '12_5_18_19_1': [5], '1_10_1_7_2': [5], '8_25_9_13_1': [5]}, {'26_42_50_31_54': [5], '95_17_75_29_102': [5], '90_53_11_174_13': [5], '13_53_43_222_111': [5], '261_14_42_15_47': [5], '49_47_14_52_148': [5], '60_9_25_42_179': [5], '118_5_107_2_202': [5], '60_90_26_47_28': [5], '78_90_126_83_71': [5], '125_1_15_15_53': [5], '52_17_12_16_90': [5], '51_13_103_11_242': [5], '214_3_9_79_7': [5], '97_8_7_10_74': [5], '24_5_39_48_7': [5], '70_7_70_19_91': [5], '8_156_19_28_20': [5], '38_12_14_6_24': [5], '96_6_77_30_235': [5]}, {'6_30_4_4_3': [5], '18_1_12_3_5': [5], '23_9_8_2_6': [5], '10_5_2_19_4': [5], '7_10_5_2_4': [5], '26_2_1_1_26': [5], '25_27_19_17_13': [5], '6_8_27_5_7': [5], '15_12_22_5_6': [5], '23_24_3_1_8': [5], '5_7_20_1_42': [5], '6_2_8_8_16': [5], '3_31_2_8_8': [5], '27_1_18_13_12': [5], '3_1_14_2_35': [5], '1_6_8_7_4': [5], '3_3_12_26_31': [5], '15_2_1_3_2': [5], '21_20_3_34_17': [5], '1_8_3_4_21': [5]}, {'27_89_24_25_13': [5], '40_118_18_143_1': [5], '44_5_55_6_2': [5], '28_33_59_30_91': [5], '28_85_75_37_26': [5], '153_110_120_19_33': [5], '83_50_5_100_13': [5], '50_81_54_94_23': [5], '97_44_148_4_19': [5], '68_45_4_20_2': [5], '66_48_93_2_33': [5], '50_21_29_1_30': [5], '40_105_13_40_3': [5], '38_25_25_213_25': [5], '8_27_54_17_67': [5], '117_113_57_58_17': [5], '26_37_21_39_40': [5], '86_19_37_252_148': [5], '133_8_206_149_59': [5], '84_68_38_96_56': [5]}, {'12_1_14_11_15': [5], '4_16_11_17_10': [5], '5_4_2_10_19': [5], '20_7_1_42_7': [5], '3_8_1_39_16': [5], '21_4_38_2_3': [5], '4_4_9_2_1': [5], '1_6_12_31_36': [5], '1_36_13_2_7': [5], '18_4_24_23_8': [5], '14_3_3_5_1': [5], '12_1_4_48_2': [5], '6_4_24_2_6': [5], '2_6_14_40_1': [5], '25_3_9_44_10': [5], '2_20_7_13_9': [5], '5_1_7_3_5': [5], '14_13_2_15_17': [5], '39_13_10_11_1': [5], '5_10_8_2_1': [5]}, {'29_29_9_11_2': [5], '11_60_19_7_35': [5], '9_2_37_35_18': [5], '35_3_3_10_67': [5], '10_64_6_57_1': [5], '17_5_4_5_25': [5], '2_15_16_11_4': [5], '8_22_37_4_26': [5], '12_6_2_15_1': [5], '12_6_24_115_12': [5], '18_9_11_22_39': [5], '12_56_5_32_4': [5], '23_30_3_24_35': [5], '10_106_1_15_11': [5], '36_44_2_7_19': [5], '17_14_19_10_18': [5], '26_9_13_41_10': [5], '20_17_29_5_8': [5], '23_1_23_5_4': [5], '75_2_2_1_13': [5]}, {'160_359_228_104_37': [5], '574_154_14_31_163': [5], '230_74_68_1_635': [5], '73_218_162_234_159': [5], '294_767_31_234_29': [5], '73_333_55_256_31': [5], '66_38_455_312_18': [5], '36_118_75_50_101': [5], '184_407_66_119_17': [5], '141_647_136_55_162': [5], '96_911_2_143_525': [5], '110_119_148_330_23': [5], '4_198_83_15_63': [5], '491_171_239_73_199': [5], '60_54_8_190_143': [5], '7_11_243_81_237': [5], '641_23_39_262_128': [5], '102_90_53_180_244': [5], '44_92_229_26_554': [5], '81_57_62_17_71': [5]}, {'2_4_8_28_6': [5], '8_20_17_75_4': [5], '11_25_7_34_7': [5], '3_2_9_57_2': [5], '3_59_24_6_45': [5], '1_23_9_42_15': [5], '8_1_1_16_3': [5], '3_24_2_3_20': [5], '5_36_8_20_20': [5], '7_19_3_4_21': [5], '1_29_1_25_2': [5], '44_12_9_4_4': [5], '16_6_11_21_14': [5], '7_10_2_1_10': [5], '19_9_9_8_14': [5], '3_3_28_18_19': [5], '29_14_23_18_1': [5], '2_30_17_19_5': [5], '1_21_11_1_8': [5], '57_19_1_27_1': [5]}, {'8_1_2_2_4': [5], '2_15_7_5_14': [5], '2_3_1_15_43': [5], '9_1_13_1_1': [5], '8_23_7_5_31': [5], '15_9_10_9_10': [5], '3_10_4_10_7': [5], '17_13_3_1_9': [5], '8_7_10_7_4': [5], '1_3_1_6_4': [5], '2_5_13_13_7': [5], '19_15_14_5_5': [5], '12_3_6_16_5': [5], '32_16_24_12_2': [5], '14_19_1_11_4': [5], '20_1_4_12_3': [5], '1_2_8_2_28': [5], '5_1_8_10_9': [5], '18_14_17_3_33': [5], '2_12_19_22_32': [5]}, {'36_97_63_105_49': [5], '205_3_33_33_33': [5], '70_82_31_33_54': [5], '71_26_57_123_80': [5], '35_40_9_22_23': [5], '5_56_23_23_11': [5], '39_18_63_30_9': [5], '35_10_199_29_73': [5], '59_3_18_49_53': [5], '178_5_8_50_6': [5], '7_96_125_61_60': [5], '15_42_112_25_1': [5], '129_5_27_101_51': [5], '19_128_13_28_97': [5], '22_102_32_36_7': [5], '74_64_45_57_13': [5], '21_13_14_108_30': [5], '54_69_3_12_32': [5], '4_58_16_10_60': [5], '23_1_7_44_37': [5]}, {'15_22_23_90_27': [5], '77_19_13_11_282': [5], '51_121_26_180_267': [5], '1_24_42_203_55': [5], '82_139_63_77_5': [5], '4_34_27_40_16': [5], '85_248_3_71_15': [5], '86_73_42_151_56': [5], '89_71_1_64_3': [5], '9_161_20_24_64': [5], '87_14_174_107_28': [5], '13_5_27_129_114': [5], '95_23_167_14_186': [5], '116_104_78_52_31': [5], '53_48_19_81_282': [5], '37_44_34_232_38': [5], '94_18_83_148_16': [5], '4_85_141_20_67': [5], '78_33_53_2_54': [5], '117_43_13_78_19': [5]}, {'4_6_102_72_23': [5], '52_5_42_2_3': [5], '38_18_46_53_11': [5], '139_75_7_6_14': [5], '1_72_11_48_15': [5], '13_48_19_25_57': [5], '41_26_48_129_135': [5], '54_12_14_54_5': [5], '55_67_45_58_23': [5], '197_30_25_3_25': [5], '45_10_8_12_38': [5], '25_28_28_11_17': [5], '49_21_41_1_69': [5], '4_31_7_5_17': [5], '15_2_57_26_2': [5], '10_14_27_36_30': [5], '155_28_9_7_13': [5], '23_14_32_8_97': [5], '5_52_9_88_48': [5], '16_78_16_6_222': [5]}, {'135_568_88_83_70': [5], '59_54_124_260_48': [5], '45_45_268_12_34': [5], '51_63_41_9_103': [5], '5_4_226_98_14': [5], '7_225_55_29_31': [5], '65_47_17_245_2': [5], '47_56_1_59_153': [5], '84_22_92_117_17': [5], '27_157_136_55_136': [5], '11_24_118_6_15': [5], '61_4_303_74_247': [5], '283_17_217_5_295': [5], '6_79_27_73_47': [5], '42_98_68_171_12': [5], '95_99_48_101_163': [5], '148_77_39_110_131': [5], '3_3_6_96_25': [5], '2_76_176_26_58': [5], '81_29_178_17_199': [5]}, {'343_28_49_44_37': [5], '42_38_93_67_42': [5], '3_22_51_68_38': [5], '12_39_30_23_12': [5], '63_34_27_52_102': [5], '3_1_70_8_5': [5], '102_16_66_12_16': [5], '37_58_49_15_1': [5], '76_35_15_14_66': [5], '3_16_84_29_78': [5], '77_120_7_62_20': [5], '27_183_2_42_38': [5], '38_42_71_42_16': [5], '24_24_44_98_103': [5], '10_14_10_93_55': [5], '19_43_55_39_38': [5], '10_106_65_4_8': [5], '55_10_106_46_6': [5], '58_5_13_53_18': [5], '13_9_4_50_34': [5]}, {'14_69_39_53_44': [5], '57_11_35_6_13': [5], '48_1_9_11_25': [5], '23_19_19_2_3': [5], '25_96_32_31_32': [5], '3_35_29_12_4': [5], '11_8_127_35_43': [5], '32_101_11_77_67': [5], '54_28_19_9_9': [5], '4_9_15_2_57': [5], '65_60_51_72_4': [5], '1_136_5_7_13': [5], '11_129_29_31_72': [5], '12_11_3_57_29': [5], '28_225_20_144_22': [5], '12_31_46_37_10': [5], '7_83_54_15_23': [5], '6_45_88_38_76': [5], '46_40_8_24_14': [5], '73_42_28_5_41': [5]}, {'23_24_1_3_34': [5], '19_26_1_44_12': [5], '7_63_34_9_106': [5], '22_79_51_25_19': [5], '17_21_28_11_68': [5], '8_20_5_50_43': [5], '9_2_14_108_70': [5], '132_14_4_11_18': [5], '33_32_4_24_2': [5], '45_2_7_8_37': [5], '16_31_10_3_34': [5], '5_41_10_15_37': [5], '5_70_76_20_2': [5], '100_2_35_3_78': [5], '7_12_11_31_1': [5], '22_9_30_4_2': [5], '18_51_3_14_27': [5], '39_32_14_16_21': [5], '30_4_66_12_81': [5], '3_4_6_33_28': [5]}, {'11_10_15_29_12': [5], '5_4_3_104_18': [5], '1_8_6_79_48': [5], '58_16_37_4_21': [5], '27_1_4_16_7': [5], '28_22_21_7_19': [5], '54_13_11_5_13': [5], '7_21_56_13_16': [5], '56_17_30_29_36': [5], '106_43_13_36_3': [5], '20_4_14_27_141': [5], '45_13_3_20_6': [5], '39_33_8_4_37': [5], '70_26_8_25_14': [5], '11_15_26_6_9': [5], '33_30_2_1_15': [5], '14_34_47_37_2': [5], '43_48_76_4_12': [5], '31_64_37_45_21': [5], '33_7_40_9_9': [5]}, {'429_101_66_67_322': [5], '39_137_112_683_258': [5], '161_437_218_492_179': [5], '414_14_192_546_165': [5], '9_402_199_334_43': [5], '554_65_197_150_125': [5], '1673_1035_15_249_73': [5], '77_413_73_27_234': [5], '159_26_90_688_115': [5], '256_619_574_290_147': [5], '433_207_83_263_1424': [5], '902_79_298_75_267': [5], '28_437_349_627_36': [5], '246_125_1107_710_89': [5], '1519_339_17_571_184': [5], '6_89_148_162_888': [5], '138_81_184_38_279': [5], '65_95_448_82_366': [5], '297_371_210_44_73': [5], '132_529_106_3_550': [5]}, {'53_39_16_21_89': [5], '10_6_76_64_6': [5], '39_33_60_4_24': [5], '19_68_32_12_6': [5], '37_6_68_1_24': [5], '29_7_13_127_94': [5], '63_121_84_19_10': [5], '90_3_15_8_8': [5], '18_5_30_51_178': [5], '86_39_278_63_22': [5], '6_108_256_4_46': [5], '97_29_16_162_6': [5], '9_55_72_33_109': [5], '18_85_12_46_62': [5], '2_46_37_28_3': [5], '45_12_180_16_78': [5], '69_11_6_37_9': [5], '105_4_4_4_30': [5], '14_61_43_8_3': [5], '86_3_68_147_7': [5]}, {'1_5_28_14_18': [5], '26_8_10_1_8': [5], '6_79_54_8_10': [5], '5_30_17_5_57': [5], '54_33_3_7_20': [5], '43_38_8_43_162': [5], '21_23_95_103_35': [5], '33_45_10_83_87': [5], '13_50_14_11_76': [5], '75_1_10_53_16': [5], '74_44_24_86_23': [5], '66_114_42_3_126': [5], '34_22_39_68_70': [5], '104_12_4_30_4': [5], '43_28_84_24_39': [5], '84_205_121_77_70': [5], '42_20_137_36_47': [5], '7_56_35_116_13': [5], '19_11_26_18_15': [5], '9_22_64_74_25': [5]}, {'107_385_84_58_118': [5], '148_28_601_166_298': [5], '139_49_143_349_208': [5], '173_181_161_128_261': [5], '555_669_52_132_823': [5], '113_814_578_398_759': [5], '197_20_2_792_364': [5], '619_450_36_272_79': [5], '784_202_132_350_312': [5], '15_47_590_89_496': [5], '643_140_170_546_400': [5], '29_402_365_122_258': [5], '512_14_18_163_114': [5], '226_127_192_34_112': [5], '245_381_223_107_241': [5], '166_381_300_9_229': [5], '1083_344_532_34_461': [5], '134_493_83_2_771': [5], '90_253_107_21_20': [5], '421_414_25_105_279': [5]}, {'18_37_3_1_10': [5], '7_9_27_30_7': [5], '10_35_12_17_1': [5], '2_9_6_8_8': [5], '30_18_14_12_22': [5], '18_8_26_3_2': [5], '12_5_73_3_14': [5], '13_17_19_21_3': [5], '6_8_5_66_49': [5], '12_21_21_15_1': [5], '49_41_23_2_5': [5], '14_14_1_37_24': [5], '10_20_15_3_15': [5], '30_15_5_4_23': [5], '1_5_35_9_13': [5], '8_17_3_14_8': [5], '22_43_32_24_20': [5], '13_16_7_18_4': [5], '17_9_2_9_5': [5], '15_14_24_10_12': [5]}]\n",
            "--- 0.10077857971191406 seconds ---\n",
            "540\n"
          ],
          "name": "stdout"
        }
      ]
    },
    {
      "cell_type": "code",
      "metadata": {
        "id": "gV37yDZqXC5p"
      },
      "source": [
        "for _, bucket in buckets.items():\n",
        "    if len(bucket) > 1:\n",
        "        print(bucket)\n",
        "        for index_newspaper in bucket:\n",
        "            print(newspapers[index_newspaper])\n",
        "        print()"
      ],
      "execution_count": 48,
      "outputs": []
    },
    {
      "cell_type": "markdown",
      "metadata": {
        "id": "7veQHjsYXO7T"
      },
      "source": [
        "**Đưa vào một bản tin, liệt kê ra những bản tin tương tự**"
      ]
    },
    {
      "cell_type": "code",
      "metadata": {
        "id": "JoHLHdUiXQ8t",
        "colab": {
          "base_uri": "https://localhost:8080/"
        },
        "outputId": "2b1b5991-9ac4-491b-e6d0-b7f6bf7661ab"
      },
      "source": [
        "def get_similar_newspapers(title_and_content, threshold=0.8):\n",
        "    cleaned_title_and_content = clean_text(title_and_content)\n",
        "\n",
        "    exist_booleans = list()\n",
        "    for shingle in shingles:\n",
        "        if shingle in cleaned_title_and_content:\n",
        "            exist_booleans.append(True)\n",
        "        else:\n",
        "            exist_booleans.append(False)\n",
        "    \n",
        "    newspaper_vector = np.array(exist_booleans, dtype=bool)\n",
        "    \n",
        "    signature_vector = list()\n",
        "    for permutation in permutations:\n",
        "        min_number = float('inf')\n",
        "        for index, exist_boolean in enumerate(newspaper_vector):\n",
        "            if exist_boolean:\n",
        "                if permutation[index] < min_number:\n",
        "                    min_number = permutation[index]\n",
        "        \n",
        "        signature_vector.append(min_number)\n",
        "    \n",
        "    same_bucket_index_newspapers = set()\n",
        "    \n",
        "    key_chars = list()\n",
        "    previous_row = 0\n",
        "    for _ in range(number_of_band):\n",
        "        for index in range(previous_row, previous_row + number_of_row):\n",
        "            key_chars.append(signature_vector[index])\n",
        "        previous_row += number_of_row\n",
        "\n",
        "        key = '_'.join(map(str, key_chars))\n",
        "\n",
        "        if key in buckets:\n",
        "            same_bucket_index_newspapers.update(buckets[key])\n",
        "        \n",
        "    similar_index_newspapers = list()\n",
        "    \n",
        "    for same_bucket_index_newspaper in same_bucket_index_newspapers:\n",
        "        count = 0\n",
        "        for i, v in enumerate(newspaper_vector):\n",
        "            if i > len(newspaper_vectors[same_bucket_index_newspaper]) - 1:\n",
        "                break\n",
        "                \n",
        "            if newspaper_vectors[same_bucket_index_newspaper][i] == v:\n",
        "                count += 1\n",
        "        \n",
        "        jaccard_similarity = count / len(newspaper_vectors[same_bucket_index_newspaper])\n",
        "        # print(jaccard_similarity)\n",
        "\n",
        "        if jaccard_similarity >= threshold:\n",
        "            similar_index_newspapers.append(same_bucket_index_newspaper)\n",
        "            \n",
        "    return similar_index_newspapers\n",
        "\n",
        "\n",
        "text = '''\n",
        "áng 22/3, phiên họp thứ 4 Hội đồng bầu cử quốc gia diễn ra tại Nhà Quốc hội. Chủ tịch Quốc hội Nguyễn Thị Kim Ngân, Chủ tịch Hội đồng bầu cử quốc gia chủ trì phiên họp.Đến nay, Hội đồng bầu cử Quốc gia đã nhận được 1.136 hồ sơ người ứng cử ĐBQH khóa XV.Tổng Thư ký, Chủ nhiệm Văn phòng Quốc hội Nguyễn Hạnh Phúc, Chánh Văn phòng Hội đồng bầu cử quốc gia cho biết, thống kê sơ bộ, cho đến thời điểm này, Hội đồng bầu cử Quốc gia đã nhận được 1.136 hồ sơ người ứng cử ĐBQH khóa XV và 7.495 hồ sơ của người ứng cử đại biểu HĐND cấp tỉnh.Tính đến hết ngày 19/3, Ủy ban Mặt trận Tổ quốc các cấp đã hoàn thành việc tổ chức Hội nghị Hiệp thương lần thứ 2 để lập danh sách sơ bộ những người ứng cử ĐBQH và người ứng cử đại biểu Hội đồng nhân dân các cấp.Chủ tịch Quốc hội Nguyễn Thị Kim Ngân, Chủ tịch Hội đồng bầu cử quốc gia chủ trì phiên họp thứ 4 của Hội đồng.Như vậy, sau Hội nghị hiệp thương thứ hai, tổng số người ứng cử ĐBQH là 1.084 người, trong đó có 205 người do các cơ quan, tổ chức, đơn vị ở Trung ương giới thiệu, 803 người do các cơ quan, tổ chức, đơn vị ở địa phương giới thiệu, 76 người tự ứng cử, đạt tỉ lệ bình quân 2,17 lần so với tổng số ĐBQH được bầu...Khẩn trương triển khai các nhiệm vụ trong công tác bầu cửPhát biểu ý kiến kết luận phiên họp, Chủ tịch Quốc hội Nguyễn Thị Kim Ngân, Chủ tịch Hội đồng bầu cử quốc gia cho biết, Phiên họp thứ 4 Hội đồng bầu cử quốc gia đã hoàn thành các nội dung chương trình đề ra. Công tác chuẩn bị bầu cử đến nay trong phạm vi cả nước đã và đang được triển khai đúng pháp luật và bảo đảm theo tiến độ đề ra, chưa phát sinh vấn đề nào ảnh hưởng đến cuộc bầu cử.Năm đoàn kiểm tra đợt 1 của Hội đồng bầu cử quốc gia đánh giá các địa phương được kiểm tra đều rất trách nhiệm và thực hiện tốt những công việc theo đúng quy định hướng dẫn của Trung ương.Các cấp ủy đảng, chính quyền, Mặt trận Tổ quốc và các cơ quan, tổ chức, đoàn thể ở địa phương đã thực hiện rất tốt công tác chuẩn bị và đang khẩn trương nghiêm túc triển khai công việc chuẩn bị cho bầu cử.Tại Phiên họp thứ 4, Hội đồng bầu cử quốc gia đã thảo luận, tham gia góp ý những ý kiến về dự thảo báo cáo kết quả triển khai công tác bầu cử Quốc hội khóa XV và đại biểu HĐND các cấp nhiệm kỳ 2021-2026.Những ý kiến phát biểu tại Phiên họp thứ 4 tập trung vào các nội dung gồm: Xây dựng những kịch bản để phòng chống dịch và kiểm soát an toàn vệ sinh thực phẩm cũng như tổ chức bầu cử ở những nơi có cách ly y tế tập trung phòng, chống dịch Covid-19 thì cần tạo điều kiện thuận lợi, an toàn để cho người dân đi bỏ phiếu, kể cả những người đang được cách ly; về đối sách phòng chống các hoạt động xuyên tạc, phá hoại bầu cử; làm tốt công tác phòng chống cháy nổ trước và trong ngày bầu cử.Hội đồng bầu cử quốc gia thông qua nguyên tắc phân bổ đại biểu Trung ương về ứng cử ở địa phương cũng như rà soát, nhất trí với kết quả hiệp thương lần thứ hai. Chủ tịch Quốc hội đề nghị cơ quan chức năng tiếp tục chỉ đạo trong tình huống không chỉ có dịch bệnh, cần bổ sung khả năng về thiên tai có thể xảy ra vào thời điểm bầu cử trong tháng 5 tới. Các kịch bản phải chắc chắn, chặt chẽ.Theo Chủ tịch Quốc hội, việc chỉ đạo thành lập các tổ bầu cử, tập huấn bầu cử cũng như chỉ đạo giải quyết khiếu nại tố cáo đang được triển khai và sắp tới cần quan tâm hơn, nhất là khi đã xong Hội nghị hiệp thương lần thứ ba. Công tác này phải được thực hiện đúng quy định.Về việc bầu cử sớm, Chủ tịch Quốc hội đề nghị Văn phòng Hội đồng bầu cử quốc gia thông báo đến những địa phương có nhu cầu bầu cử sớm để đăng ký. Theo Luật Bầu cử ĐBQH và đại biểu Hội đồng nhân dân, việc bầu cử sớm do Hội đồng bầu cử quốc gia quyết định, khi bầu cử rồi mà bầu thiếu, muốn bầu cử lại hay không thì các địa phương sẽ báo cáo xin ý kiến Hội đồng bầu cử quốc gia và quyền cho bầu cử lại, bầu cử thêm cũng thuộc thẩm quyền của Hội đồng bầu cử quốc gia.Về quy định in ấn tài liệu, đấu thầu, Chủ tịch Quốc hội đề nghị Văn phòng Hội đồng bầu cử quốc gia có văn bản đề nghị Bộ Tài chính hướng dẫn bổ sung thêm trong trường hợp khẩn cấp cần in ấn không qua đấu thầu thì cũng cần có thêm có hướng dẫn.Chủ tịch Quốc hội cũng lưu ý một số công tác trong thực hiện về kê khai tài sản, hướng dẫn kê khai tài sản… cần được thực hiện theo đúng quy định của pháp luật.Về tuyên truyền, một số nơi có sáng kiến, nếu có sáng kiến tốt thì áp dụng rộng rãi cho cả nước. Chủ tịch Quốc hội đề nghị tăng cường tuyên truyền thêm, nhiều hơn, hiệu quả hơn cho đợt hội nghị hiệp thương lần thứ ba và cho tới ngày bầu cử 23/5 tới với mật độ tăng cường.Sau khi có kết quả hội nghị hiệp thương lần ba, sẽ lên danh sách chính thức những người ứng cử ĐBQH và Hội đồng nhân dân.Về bảo đảm cơ cấu ứng cử là nữ cho ĐBQH và Hội đồng nhân dân các cấp, hiện nay cố gắng thực hiện theo phương hướng bầu cử, tức là trong danh sách bầu cử có ít nhất 35% ứng cử viên là nữ. Chủ tịch Quốc hội cho rằng phải tiếp tục quan tâm tuyên truyền, nâng cao kiến thức, kỹ năng của các nữ ứng cử viên mà Trung ương Hội Liên hiệp Phụ nữ Việt Nam đã thực hiện rất tốt.Chủ tịch Quốc hội đề nghị Chánh Văn phòng Hội đồng bầu cử quốc gia tiếp thu đầy đủ các ý kiến của các thành viên Hội đồng bầu cử quốc gia để hoàn thiện các văn bản gửi tới các ĐBQH về báo cáo nhiệm kỳ, báo cáo của Hội đồng bầu cử quốc gia; đồng thời tập trung tham mưu giúp Hội đồng bầu cử quốc gia và các Tiểu ban đôn đốc theo dõi việc triển khai tiếp theo để chuẩn bị cho bầu cử.Các tiểu ban và Văn phòng của Hội đồng bầu cử quốc gia cũng như các cơ quan của Chính phủ, Ủy ban Trung ương Mặt trận Tổ quốc Việt Nam, các bộ, ban, ngành tiếp tục rà soát lại những công việc theo chức năng, nhiệm vụ được phân công để khẩn trương chỉ đạo, triển khai nhiệm vụ về công tác bầu cử...Tại phiên họp, Hội đồng bầu cử quốc gia đã xem xét thông qua hai nghị quyết đó là Nghị quyết về xử lý trường hợp khuyết người ứng cử Hội đồng nhân dân vì lý do bất khả kháng và Nghị quyết về nguyên tắc phân bổ ứng cử viên của Trung ương về địa phương ứng cử ĐBQH.Chủ tịch Quốc hội đề nghị Tiểu ban văn kiện, pháp luật và thông tin tuyên truyền, Tiểu ban nhân sự tiếp thu các ý kiến tại phiên họp để nhanh chóng hoàn thiện trình các văn bản. Riêng văn bản về nguyên tắc phân bổ đại biểu, đề nghị trình Chủ tịch Hội đồng bầu cử quốc gia sau khi được kiện toàn ký, để gắn với Hội nghị hiệp thương lần thứ ba...Chủ tịch Quốc hội Nguyễn Thị Kim Ngân, Chủ tịch Hội đồng bầu cử quốc gia nêu rõ, sau phiên họp, các cơ quan Chính phủ, Ủy ban Trung ương Mặt trận Tổ quốc Việt Nam, các bộ, ngành, địa phương và các cơ quan có liên quan tích cực chủ động trong công tác lãnh đạo, chỉ đạo. Việc nào cần hướng dẫn phải hướng dẫn sớm để cho các Ủy ban bầu cử biết, thực hiện và trả lời cho đúng.Theo TTXVN\n",
        "'''\n",
        "\n",
        "start_time = time.time()\n",
        "similar_index_newspapers = get_similar_newspapers(text)\n",
        "print(f'--- {time.time() - start_time} seconds ---')\n",
        "\n",
        "print('Number of similar newspapers =', len(similar_index_newspapers))\n",
        "for index_newspaper in similar_index_newspapers:\n",
        "    print(newspapers[index_newspaper])"
      ],
      "execution_count": 49,
      "outputs": [
        {
          "output_type": "stream",
          "text": [
            "--- 1.15755009651184082 seconds ---\n",
            "Number of similar newspapers = 1\n",
            "1.136 hồ sơ ứng cử đại biểu Quốc hội.txt\n"
          ],
          "name": "stdout"
        }
      ]
    }
  ]
}
